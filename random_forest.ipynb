{
 "cells": [
  {
   "cell_type": "code",
   "execution_count": 1,
   "outputs": [],
   "source": [
    "import numpy as np\n",
    "import pandas as pd\n",
    "from sklearn.feature_extraction.text import TfidfVectorizer\n",
    "from sklearn.feature_extraction.text import CountVectorizer\n",
    "from sklearn.ensemble import RandomForestClassifier\n",
    "from sklearn.metrics import accuracy_score, roc_auc_score\n",
    "from sklearn.model_selection import GridSearchCV"
   ],
   "metadata": {
    "collapsed": false,
    "pycharm": {
     "name": "#%%\n"
    }
   }
  },
  {
   "cell_type": "markdown",
   "source": [
    "# Data tokenization"
   ],
   "metadata": {
    "collapsed": false,
    "pycharm": {
     "name": "#%% md\n"
    }
   }
  },
  {
   "cell_type": "code",
   "execution_count": 2,
   "outputs": [],
   "source": [
    "def get_boolean_representation(corpus, stop_words_list='english'):\n",
    "    vectorizer = CountVectorizer(binary=True, stop_words=stop_words_list)\n",
    "    X = vectorizer.fit_transform(corpus)\n",
    "    voc = vectorizer.get_feature_names_out()\n",
    "    return X.toarray(), voc\n",
    "\n",
    "def get_tf_representation(corpus, stop_words_list='english'):\n",
    "    vectorizer = CountVectorizer(binary=False, stop_words=stop_words_list)\n",
    "    X = vectorizer.fit_transform(corpus)\n",
    "    voc = vectorizer.get_feature_names_out()\n",
    "    return X.toarray(), voc\n",
    "\n",
    "def get_tf_idf_representation(corpus, stop_words_list='english'):\n",
    "    vectorizer = TfidfVectorizer(stop_words=stop_words_list)\n",
    "    X = vectorizer.fit_transform(corpus)\n",
    "    voc = vectorizer.get_feature_names_out()\n",
    "    return X.toarray(), voc"
   ],
   "metadata": {
    "collapsed": false,
    "pycharm": {
     "name": "#%%\n"
    }
   }
  },
  {
   "cell_type": "markdown",
   "source": [
    "# Random forest"
   ],
   "metadata": {
    "collapsed": false,
    "pycharm": {
     "name": "#%% md\n"
    }
   }
  },
  {
   "cell_type": "code",
   "execution_count": 3,
   "outputs": [],
   "source": [
    "index_train = np.load('../data/array_idx_train.npy')\n",
    "index_val = np.load('../data/array_idx_val.npy')\n",
    "\n",
    "df = pd.read_csv('../data/DataFrame_train_preprocessing_V2.csv')\n",
    "\n",
    "representation_boolean, vocabulary = get_boolean_representation(df['text'].apply(lambda x : x.lower()))\n",
    "representation_tf, _ = get_tf_representation(df['text'].apply(lambda x : x.lower()))\n",
    "representation_tf_idf, _ = get_tf_idf_representation(df['text'].apply(lambda x : x.lower()))\n",
    "\n",
    "y_train = df.loc[index_train, 'label']\n",
    "y_val = df.loc[index_val, 'label']\n",
    "\n",
    "del df\n",
    "\n",
    "x_train_boolean = representation_boolean[index_train]\n",
    "x_val_boolean = representation_boolean[index_val]\n",
    "\n",
    "x_train_tf = representation_tf[index_train]\n",
    "x_val_tf = representation_tf[index_val]\n",
    "\n",
    "x_train_tf_idf = representation_tf_idf[index_train]\n",
    "x_val_tf_idf = representation_tf_idf[index_val]"
   ],
   "metadata": {
    "collapsed": false,
    "pycharm": {
     "name": "#%%\n"
    }
   }
  },
  {
   "cell_type": "markdown",
   "source": [
    "# Cross validation"
   ],
   "metadata": {
    "collapsed": false,
    "pycharm": {
     "name": "#%% md\n"
    }
   }
  },
  {
   "cell_type": "code",
   "execution_count": 5,
   "outputs": [
    {
     "name": "stdout",
     "output_type": "stream",
     "text": [
      "Fitting 5 folds for each of 24 candidates, totalling 120 fits\n",
      "[CV] END class_weight=balanced, criterion=gini, max_depth=3, max_features=0.25, n_estimators=2; total time=   1.0s\n",
      "[CV] END class_weight=balanced, criterion=gini, max_depth=3, max_features=0.25, n_estimators=2; total time=   0.7s\n",
      "[CV] END class_weight=balanced, criterion=gini, max_depth=3, max_features=0.25, n_estimators=2; total time=   0.6s\n",
      "[CV] END class_weight=balanced, criterion=gini, max_depth=3, max_features=0.25, n_estimators=2; total time=   0.5s\n",
      "[CV] END class_weight=balanced, criterion=gini, max_depth=3, max_features=0.25, n_estimators=2; total time=   0.5s\n",
      "[CV] END class_weight=balanced, criterion=gini, max_depth=3, max_features=0.25, n_estimators=4; total time=   0.8s\n",
      "[CV] END class_weight=balanced, criterion=gini, max_depth=3, max_features=0.25, n_estimators=4; total time=   0.8s\n",
      "[CV] END class_weight=balanced, criterion=gini, max_depth=3, max_features=0.25, n_estimators=4; total time=   0.8s\n",
      "[CV] END class_weight=balanced, criterion=gini, max_depth=3, max_features=0.25, n_estimators=4; total time=   0.8s\n",
      "[CV] END class_weight=balanced, criterion=gini, max_depth=3, max_features=0.25, n_estimators=4; total time=   0.8s\n",
      "[CV] END class_weight=balanced, criterion=gini, max_depth=3, max_features=0.25, n_estimators=5; total time=   1.0s\n",
      "[CV] END class_weight=balanced, criterion=gini, max_depth=3, max_features=0.25, n_estimators=5; total time=   1.0s\n",
      "[CV] END class_weight=balanced, criterion=gini, max_depth=3, max_features=0.25, n_estimators=5; total time=   1.0s\n",
      "[CV] END class_weight=balanced, criterion=gini, max_depth=3, max_features=0.25, n_estimators=5; total time=   0.9s\n",
      "[CV] END class_weight=balanced, criterion=gini, max_depth=3, max_features=0.25, n_estimators=5; total time=   0.9s\n",
      "[CV] END class_weight=balanced, criterion=gini, max_depth=3, max_features=0.25, n_estimators=10; total time=   1.7s\n",
      "[CV] END class_weight=balanced, criterion=gini, max_depth=3, max_features=0.25, n_estimators=10; total time=   1.7s\n",
      "[CV] END class_weight=balanced, criterion=gini, max_depth=3, max_features=0.25, n_estimators=10; total time=   1.6s\n",
      "[CV] END class_weight=balanced, criterion=gini, max_depth=3, max_features=0.25, n_estimators=10; total time=   1.9s\n",
      "[CV] END class_weight=balanced, criterion=gini, max_depth=3, max_features=0.25, n_estimators=10; total time=   1.9s\n",
      "[CV] END class_weight=balanced, criterion=gini, max_depth=3, max_features=0.75, n_estimators=2; total time=   0.9s\n",
      "[CV] END class_weight=balanced, criterion=gini, max_depth=3, max_features=0.75, n_estimators=2; total time=   0.9s\n",
      "[CV] END class_weight=balanced, criterion=gini, max_depth=3, max_features=0.75, n_estimators=2; total time=   0.9s\n",
      "[CV] END class_weight=balanced, criterion=gini, max_depth=3, max_features=0.75, n_estimators=2; total time=   0.9s\n",
      "[CV] END class_weight=balanced, criterion=gini, max_depth=3, max_features=0.75, n_estimators=2; total time=   0.9s\n",
      "[CV] END class_weight=balanced, criterion=gini, max_depth=3, max_features=0.75, n_estimators=4; total time=   1.6s\n",
      "[CV] END class_weight=balanced, criterion=gini, max_depth=3, max_features=0.75, n_estimators=4; total time=   1.6s\n",
      "[CV] END class_weight=balanced, criterion=gini, max_depth=3, max_features=0.75, n_estimators=4; total time=   1.6s\n",
      "[CV] END class_weight=balanced, criterion=gini, max_depth=3, max_features=0.75, n_estimators=4; total time=   1.8s\n",
      "[CV] END class_weight=balanced, criterion=gini, max_depth=3, max_features=0.75, n_estimators=4; total time=   2.3s\n",
      "[CV] END class_weight=balanced, criterion=gini, max_depth=3, max_features=0.75, n_estimators=5; total time=   2.4s\n",
      "[CV] END class_weight=balanced, criterion=gini, max_depth=3, max_features=0.75, n_estimators=5; total time=   2.5s\n",
      "[CV] END class_weight=balanced, criterion=gini, max_depth=3, max_features=0.75, n_estimators=5; total time=   2.1s\n",
      "[CV] END class_weight=balanced, criterion=gini, max_depth=3, max_features=0.75, n_estimators=5; total time=   2.2s\n",
      "[CV] END class_weight=balanced, criterion=gini, max_depth=3, max_features=0.75, n_estimators=5; total time=   2.1s\n",
      "[CV] END class_weight=balanced, criterion=gini, max_depth=3, max_features=0.75, n_estimators=10; total time=   4.0s\n",
      "[CV] END class_weight=balanced, criterion=gini, max_depth=3, max_features=0.75, n_estimators=10; total time=   4.2s\n",
      "[CV] END class_weight=balanced, criterion=gini, max_depth=3, max_features=0.75, n_estimators=10; total time=   4.4s\n",
      "[CV] END class_weight=balanced, criterion=gini, max_depth=3, max_features=0.75, n_estimators=10; total time=   4.9s\n",
      "[CV] END class_weight=balanced, criterion=gini, max_depth=3, max_features=0.75, n_estimators=10; total time=   4.6s\n",
      "[CV] END class_weight=balanced, criterion=gini, max_depth=4, max_features=0.25, n_estimators=2; total time=   0.6s\n",
      "[CV] END class_weight=balanced, criterion=gini, max_depth=4, max_features=0.25, n_estimators=2; total time=   0.7s\n",
      "[CV] END class_weight=balanced, criterion=gini, max_depth=4, max_features=0.25, n_estimators=2; total time=   0.6s\n",
      "[CV] END class_weight=balanced, criterion=gini, max_depth=4, max_features=0.25, n_estimators=2; total time=   0.7s\n",
      "[CV] END class_weight=balanced, criterion=gini, max_depth=4, max_features=0.25, n_estimators=2; total time=   0.9s\n",
      "[CV] END class_weight=balanced, criterion=gini, max_depth=4, max_features=0.25, n_estimators=4; total time=   1.5s\n",
      "[CV] END class_weight=balanced, criterion=gini, max_depth=4, max_features=0.25, n_estimators=4; total time=   1.2s\n",
      "[CV] END class_weight=balanced, criterion=gini, max_depth=4, max_features=0.25, n_estimators=4; total time=   1.2s\n",
      "[CV] END class_weight=balanced, criterion=gini, max_depth=4, max_features=0.25, n_estimators=4; total time=   1.2s\n",
      "[CV] END class_weight=balanced, criterion=gini, max_depth=4, max_features=0.25, n_estimators=4; total time=   1.3s\n",
      "[CV] END class_weight=balanced, criterion=gini, max_depth=4, max_features=0.25, n_estimators=5; total time=   1.7s\n",
      "[CV] END class_weight=balanced, criterion=gini, max_depth=4, max_features=0.25, n_estimators=5; total time=   1.4s\n",
      "[CV] END class_weight=balanced, criterion=gini, max_depth=4, max_features=0.25, n_estimators=5; total time=   1.5s\n",
      "[CV] END class_weight=balanced, criterion=gini, max_depth=4, max_features=0.25, n_estimators=5; total time=   1.6s\n",
      "[CV] END class_weight=balanced, criterion=gini, max_depth=4, max_features=0.25, n_estimators=5; total time=   1.5s\n",
      "[CV] END class_weight=balanced, criterion=gini, max_depth=4, max_features=0.25, n_estimators=10; total time=   2.8s\n",
      "[CV] END class_weight=balanced, criterion=gini, max_depth=4, max_features=0.25, n_estimators=10; total time=   2.8s\n",
      "[CV] END class_weight=balanced, criterion=gini, max_depth=4, max_features=0.25, n_estimators=10; total time=   2.1s\n",
      "[CV] END class_weight=balanced, criterion=gini, max_depth=4, max_features=0.25, n_estimators=10; total time=   2.2s\n",
      "[CV] END class_weight=balanced, criterion=gini, max_depth=4, max_features=0.25, n_estimators=10; total time=   2.6s\n",
      "[CV] END class_weight=balanced, criterion=gini, max_depth=4, max_features=0.75, n_estimators=2; total time=   1.5s\n",
      "[CV] END class_weight=balanced, criterion=gini, max_depth=4, max_features=0.75, n_estimators=2; total time=   1.4s\n",
      "[CV] END class_weight=balanced, criterion=gini, max_depth=4, max_features=0.75, n_estimators=2; total time=   1.3s\n",
      "[CV] END class_weight=balanced, criterion=gini, max_depth=4, max_features=0.75, n_estimators=2; total time=   1.1s\n",
      "[CV] END class_weight=balanced, criterion=gini, max_depth=4, max_features=0.75, n_estimators=2; total time=   1.1s\n",
      "[CV] END class_weight=balanced, criterion=gini, max_depth=4, max_features=0.75, n_estimators=4; total time=   2.9s\n",
      "[CV] END class_weight=balanced, criterion=gini, max_depth=4, max_features=0.75, n_estimators=4; total time=   2.6s\n",
      "[CV] END class_weight=balanced, criterion=gini, max_depth=4, max_features=0.75, n_estimators=4; total time=   2.5s\n",
      "[CV] END class_weight=balanced, criterion=gini, max_depth=4, max_features=0.75, n_estimators=4; total time=   2.5s\n",
      "[CV] END class_weight=balanced, criterion=gini, max_depth=4, max_features=0.75, n_estimators=4; total time=   2.1s\n",
      "[CV] END class_weight=balanced, criterion=gini, max_depth=4, max_features=0.75, n_estimators=5; total time=   2.6s\n",
      "[CV] END class_weight=balanced, criterion=gini, max_depth=4, max_features=0.75, n_estimators=5; total time=   2.8s\n",
      "[CV] END class_weight=balanced, criterion=gini, max_depth=4, max_features=0.75, n_estimators=5; total time=   2.9s\n",
      "[CV] END class_weight=balanced, criterion=gini, max_depth=4, max_features=0.75, n_estimators=5; total time=   2.6s\n",
      "[CV] END class_weight=balanced, criterion=gini, max_depth=4, max_features=0.75, n_estimators=5; total time=   2.5s\n",
      "[CV] END class_weight=balanced, criterion=gini, max_depth=4, max_features=0.75, n_estimators=10; total time=   5.1s\n",
      "[CV] END class_weight=balanced, criterion=gini, max_depth=4, max_features=0.75, n_estimators=10; total time=   5.7s\n",
      "[CV] END class_weight=balanced, criterion=gini, max_depth=4, max_features=0.75, n_estimators=10; total time=   5.3s\n",
      "[CV] END class_weight=balanced, criterion=gini, max_depth=4, max_features=0.75, n_estimators=10; total time=   5.0s\n",
      "[CV] END class_weight=balanced, criterion=gini, max_depth=4, max_features=0.75, n_estimators=10; total time=   5.0s\n",
      "[CV] END class_weight=balanced, criterion=gini, max_depth=5, max_features=0.25, n_estimators=2; total time=   0.6s\n",
      "[CV] END class_weight=balanced, criterion=gini, max_depth=5, max_features=0.25, n_estimators=2; total time=   0.6s\n",
      "[CV] END class_weight=balanced, criterion=gini, max_depth=5, max_features=0.25, n_estimators=2; total time=   0.6s\n",
      "[CV] END class_weight=balanced, criterion=gini, max_depth=5, max_features=0.25, n_estimators=2; total time=   0.6s\n",
      "[CV] END class_weight=balanced, criterion=gini, max_depth=5, max_features=0.25, n_estimators=2; total time=   0.6s\n",
      "[CV] END class_weight=balanced, criterion=gini, max_depth=5, max_features=0.25, n_estimators=4; total time=   1.1s\n",
      "[CV] END class_weight=balanced, criterion=gini, max_depth=5, max_features=0.25, n_estimators=4; total time=   1.1s\n",
      "[CV] END class_weight=balanced, criterion=gini, max_depth=5, max_features=0.25, n_estimators=4; total time=   1.2s\n",
      "[CV] END class_weight=balanced, criterion=gini, max_depth=5, max_features=0.25, n_estimators=4; total time=   1.1s\n",
      "[CV] END class_weight=balanced, criterion=gini, max_depth=5, max_features=0.25, n_estimators=4; total time=   1.1s\n",
      "[CV] END class_weight=balanced, criterion=gini, max_depth=5, max_features=0.25, n_estimators=5; total time=   1.5s\n",
      "[CV] END class_weight=balanced, criterion=gini, max_depth=5, max_features=0.25, n_estimators=5; total time=   1.4s\n",
      "[CV] END class_weight=balanced, criterion=gini, max_depth=5, max_features=0.25, n_estimators=5; total time=   1.5s\n",
      "[CV] END class_weight=balanced, criterion=gini, max_depth=5, max_features=0.25, n_estimators=5; total time=   1.5s\n",
      "[CV] END class_weight=balanced, criterion=gini, max_depth=5, max_features=0.25, n_estimators=5; total time=   1.4s\n",
      "[CV] END class_weight=balanced, criterion=gini, max_depth=5, max_features=0.25, n_estimators=10; total time=   2.6s\n",
      "[CV] END class_weight=balanced, criterion=gini, max_depth=5, max_features=0.25, n_estimators=10; total time=   2.3s\n",
      "[CV] END class_weight=balanced, criterion=gini, max_depth=5, max_features=0.25, n_estimators=10; total time=   2.7s\n",
      "[CV] END class_weight=balanced, criterion=gini, max_depth=5, max_features=0.25, n_estimators=10; total time=   2.7s\n",
      "[CV] END class_weight=balanced, criterion=gini, max_depth=5, max_features=0.25, n_estimators=10; total time=   2.7s\n",
      "[CV] END class_weight=balanced, criterion=gini, max_depth=5, max_features=0.75, n_estimators=2; total time=   1.4s\n",
      "[CV] END class_weight=balanced, criterion=gini, max_depth=5, max_features=0.75, n_estimators=2; total time=   1.4s\n",
      "[CV] END class_weight=balanced, criterion=gini, max_depth=5, max_features=0.75, n_estimators=2; total time=   1.4s\n",
      "[CV] END class_weight=balanced, criterion=gini, max_depth=5, max_features=0.75, n_estimators=2; total time=   1.5s\n",
      "[CV] END class_weight=balanced, criterion=gini, max_depth=5, max_features=0.75, n_estimators=2; total time=   1.5s\n",
      "[CV] END class_weight=balanced, criterion=gini, max_depth=5, max_features=0.75, n_estimators=4; total time=   2.7s\n",
      "[CV] END class_weight=balanced, criterion=gini, max_depth=5, max_features=0.75, n_estimators=4; total time=   2.6s\n",
      "[CV] END class_weight=balanced, criterion=gini, max_depth=5, max_features=0.75, n_estimators=4; total time=   2.8s\n",
      "[CV] END class_weight=balanced, criterion=gini, max_depth=5, max_features=0.75, n_estimators=4; total time=   2.7s\n",
      "[CV] END class_weight=balanced, criterion=gini, max_depth=5, max_features=0.75, n_estimators=4; total time=   2.5s\n",
      "[CV] END class_weight=balanced, criterion=gini, max_depth=5, max_features=0.75, n_estimators=5; total time=   4.4s\n",
      "[CV] END class_weight=balanced, criterion=gini, max_depth=5, max_features=0.75, n_estimators=5; total time=   4.1s\n",
      "[CV] END class_weight=balanced, criterion=gini, max_depth=5, max_features=0.75, n_estimators=5; total time=   4.6s\n",
      "[CV] END class_weight=balanced, criterion=gini, max_depth=5, max_features=0.75, n_estimators=5; total time=   4.5s\n",
      "[CV] END class_weight=balanced, criterion=gini, max_depth=5, max_features=0.75, n_estimators=5; total time=   3.9s\n",
      "[CV] END class_weight=balanced, criterion=gini, max_depth=5, max_features=0.75, n_estimators=10; total time=   7.2s\n",
      "[CV] END class_weight=balanced, criterion=gini, max_depth=5, max_features=0.75, n_estimators=10; total time=   7.2s\n",
      "[CV] END class_weight=balanced, criterion=gini, max_depth=5, max_features=0.75, n_estimators=10; total time=   7.4s\n",
      "[CV] END class_weight=balanced, criterion=gini, max_depth=5, max_features=0.75, n_estimators=10; total time=   7.1s\n",
      "[CV] END class_weight=balanced, criterion=gini, max_depth=5, max_features=0.75, n_estimators=10; total time=   7.1s\n",
      "Best score 0.9822867861784749 for parameters {'class_weight': 'balanced', 'criterion': 'gini', 'max_depth': 5, 'max_features': 0.25, 'n_estimators': 10}\n"
     ]
    }
   ],
   "source": [
    "parameters_to_tune = {'criterion' : ['gini'],\n",
    "                      'n_estimators' : [2, 4, 5, 10],\n",
    "                      'max_depth' : [3, 4, 5],\n",
    "                      'max_features' : [0.25, 0.75],\n",
    "                      'class_weight' : ['balanced']\n",
    "                      }\n",
    "\n",
    "model_to_tune = RandomForestClassifier(random_state=0)\n",
    "model = GridSearchCV(model_to_tune, parameters_to_tune, scoring='roc_auc', verbose=2).fit(x_train_boolean, y_train)\n",
    "print('Best score', model.best_score_, 'for parameters', model.best_params_)"
   ],
   "metadata": {
    "collapsed": false,
    "pycharm": {
     "name": "#%%\n"
    }
   }
  },
  {
   "cell_type": "markdown",
   "source": [
    "# Boolean representation"
   ],
   "metadata": {
    "collapsed": false,
    "pycharm": {
     "name": "#%% md\n"
    }
   }
  },
  {
   "cell_type": "code",
   "execution_count": 12,
   "outputs": [
    {
     "name": "stdout",
     "output_type": "stream",
     "text": [
      "**Boolean representation**\n",
      "accuracy 0.97 auc-roc 0.9508870214752567\n"
     ]
    }
   ],
   "source": [
    "model = RandomForestClassifier(random_state=0,  criterion = 'gini', max_depth = 5, max_features = 0.25, class_weight= 'balanced', n_estimators=20).fit(x_train_boolean, y_train)\n",
    "y_predict = model.predict(x_val_boolean)\n",
    "\n",
    "acc = accuracy_score(y_val, y_predict)\n",
    "aucroc = roc_auc_score(y_val, y_predict)\n",
    "\n",
    "print('**Boolean representation**')\n",
    "print('accuracy', acc, 'auc-roc', aucroc)"
   ],
   "metadata": {
    "collapsed": false,
    "pycharm": {
     "name": "#%%\n"
    }
   }
  },
  {
   "cell_type": "markdown",
   "source": [
    "# TF representation"
   ],
   "metadata": {
    "collapsed": false,
    "pycharm": {
     "name": "#%% md\n"
    }
   }
  },
  {
   "cell_type": "code",
   "execution_count": 22,
   "outputs": [
    {
     "name": "stdout",
     "output_type": "stream",
     "text": [
      "**TF representation**\n",
      "accuracy 0.975 auc-roc 0.9583566760037349\n"
     ]
    }
   ],
   "source": [
    "model = RandomForestClassifier(random_state=0,  criterion = 'gini', max_depth = 5, max_features = 0.25, class_weight= 'balanced', n_estimators=20).fit(x_train_tf, y_train)\n",
    "y_predict = model.predict(x_val_tf)\n",
    "\n",
    "acc = accuracy_score(y_val, y_predict)\n",
    "aucroc = roc_auc_score(y_val, y_predict)\n",
    "\n",
    "print('**TF representation**')\n",
    "print('accuracy', acc, 'auc-roc', aucroc)"
   ],
   "metadata": {
    "collapsed": false,
    "pycharm": {
     "name": "#%%\n"
    }
   }
  },
  {
   "cell_type": "markdown",
   "source": [
    "# TF-IDF representation"
   ],
   "metadata": {
    "collapsed": false,
    "pycharm": {
     "name": "#%% md\n"
    }
   }
  },
  {
   "cell_type": "code",
   "execution_count": 30,
   "outputs": [
    {
     "name": "stdout",
     "output_type": "stream",
     "text": [
      "**TF-IDF representation**\n",
      "accuracy 0.97 auc-roc 0.9551820728291316\n"
     ]
    }
   ],
   "source": [
    "model = RandomForestClassifier(random_state=0,  criterion = 'gini', max_depth = 5, max_features = 0.25, class_weight= 'balanced', n_estimators=20).fit(x_train_tf_idf, y_train)\n",
    "y_predict = model.predict(x_val_tf_idf)\n",
    "\n",
    "acc = accuracy_score(y_val, y_predict)\n",
    "aucroc = roc_auc_score(y_val, y_predict)\n",
    "\n",
    "print('**TF-IDF representation**')\n",
    "print('accuracy', acc, 'auc-roc', aucroc)"
   ],
   "metadata": {
    "collapsed": false,
    "pycharm": {
     "name": "#%%\n"
    }
   }
  }
 ],
 "metadata": {
  "kernelspec": {
   "display_name": "Python 3",
   "language": "python",
   "name": "python3"
  },
  "language_info": {
   "codemirror_mode": {
    "name": "ipython",
    "version": 2
   },
   "file_extension": ".py",
   "mimetype": "text/x-python",
   "name": "python",
   "nbconvert_exporter": "python",
   "pygments_lexer": "ipython2",
   "version": "2.7.6"
  }
 },
 "nbformat": 4,
 "nbformat_minor": 0
}