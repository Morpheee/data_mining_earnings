{
 "cells": [
  {
   "cell_type": "markdown",
   "metadata": {
    "collapsed": true,
    "pycharm": {
     "name": "#%% md\n"
    }
   },
   "source": [
    "# Define similarity measures"
   ]
  },
  {
   "cell_type": "code",
   "execution_count": 5,
   "outputs": [],
   "source": [
    "import numpy as np\n",
    "import pandas as pd\n",
    "from sklearn.metrics import jaccard_score as jaccard_similarity\n",
    "\n",
    "\n",
    "def dot_similarity(vector1, vector2):\n",
    "    return np.sum(np.multiply(np.array(vector1), np.array(vector2)))\n",
    "\n",
    "def cosine_similarity(vector1, vector2):\n",
    "    return dot_similarity(vector1, vector2) / np.sqrt(np.sum(vector1)**2 * np.sum(vector2)**2)"
   ],
   "metadata": {
    "collapsed": false,
    "pycharm": {
     "name": "#%%\n"
    }
   }
  },
  {
   "cell_type": "markdown",
   "source": [
    "# Data tokenization"
   ],
   "metadata": {
    "collapsed": false,
    "pycharm": {
     "name": "#%% md\n"
    }
   }
  },
  {
   "cell_type": "code",
   "execution_count": 2,
   "outputs": [],
   "source": [
    "from sklearn.feature_extraction.text import TfidfVectorizer\n",
    "from sklearn.feature_extraction.text import CountVectorizer\n",
    "from nltk.corpus import stopwords\n",
    "# ‘english’\n",
    "def get_boolean_representation(corpus, stop_words_list='english'):\n",
    "    vectorizer = CountVectorizer(binary=True, stop_words=stop_words_list)\n",
    "    X = vectorizer.fit_transform(corpus)\n",
    "    vectorizer.get_feature_names_out()\n",
    "    return X.toarray()\n",
    "\n",
    "def get_tf_representation(corpus, stop_words_list='english'):\n",
    "    vectorizer = CountVectorizer(binary=False, stop_words=stop_words_list)\n",
    "    X = vectorizer.fit_transform(corpus)\n",
    "    vectorizer.get_feature_names_out()\n",
    "    return X.toarray()\n",
    "\n",
    "def get_tf_idf_representation(corpus, stop_words_list='english'):\n",
    "    vectorizer = TfidfVectorizer(stop_words=stop_words_list)\n",
    "    X = vectorizer.fit_transform(corpus)\n",
    "    vectorizer.get_feature_names_out()\n",
    "    return X.toarray()"
   ],
   "metadata": {
    "collapsed": false,
    "pycharm": {
     "name": "#%%\n"
    }
   }
  },
  {
   "cell_type": "markdown",
   "source": [
    "# Define functions for centroid classification"
   ],
   "metadata": {
    "collapsed": false,
    "pycharm": {
     "name": "#%% md\n"
    }
   }
  },
  {
   "cell_type": "code",
   "execution_count": 28,
   "outputs": [],
   "source": [
    "class centroids_model:\n",
    "    centroids_0 = None\n",
    "    centroids_1 = None\n",
    "\n",
    "    def get_centroids(self):\n",
    "        if self.centroids_0 is None or self.centroids_1 is None :\n",
    "            print('Error : class must be fitted before')\n",
    "            exit(-1)\n",
    "        else:\n",
    "            return self.centroids_0, self.centroids_1\n",
    "\n",
    "    def fit(self, data, labels):\n",
    "        index_label_0 = np.argwhere(np.array(labels) == 0).reshape(-1)\n",
    "        index_label_1 = np.argwhere(np.array(labels) == 1).reshape(-1)\n",
    "\n",
    "        # compute centroids\n",
    "        self.centroids_0 = np.sum(data[index_label_0], axis=0) / len(index_label_0)\n",
    "        self.centroids_1 = np.sum(data[index_label_1], axis=0) / len(index_label_1)\n",
    "\n",
    "\n",
    "    def predict(self, data, similarity='cosine'):\n",
    "        if self.centroids_0 is None or self.centroids_1 is None :\n",
    "            print('Error : class must be fitted before prediction')\n",
    "            exit(-1)\n",
    "        if similarity == 'dot':\n",
    "            return [1 if dot_similarity(entry, self.centroids_0) < dot_similarity(entry, self.centroids_1) else 0 for entry in data]\n",
    "        # elif similarity == 'jaccard':\n",
    "        #     return [1 if jaccard_similarity(entry, self.centroids_0) < jaccard_similarity(entry, self.centroids_1) else 0 for entry in data]\n",
    "        else:\n",
    "            return [1 if cosine_similarity(entry, self.centroids_0) < cosine_similarity(entry, self.centroids_1) else 0  for entry in data]"
   ],
   "metadata": {
    "collapsed": false,
    "pycharm": {
     "name": "#%%\n"
    }
   }
  },
  {
   "cell_type": "markdown",
   "source": [
    "# Experiments for centroids classification"
   ],
   "metadata": {
    "collapsed": false,
    "pycharm": {
     "name": "#%% md\n"
    }
   }
  },
  {
   "cell_type": "code",
   "execution_count": 7,
   "outputs": [],
   "source": [
    "import pandas as pd\n",
    "\n",
    "df_train = pd.read_csv(\"../data/DataFrame_train_PREPROCESS.csv\")\n",
    "df_val = pd.read_csv(\"../data/DataFrame_val_PREPROCESS.csv\")\n",
    "\n",
    "index_train = df_train['index']\n",
    "index_val = df_val['index']\n",
    "\n",
    "df = pd.concat([df_train, df_val], ignore_index = True, sort = False)\n",
    "\n",
    "\n",
    "representation_boolean = get_boolean_representation(df['text'].apply(lambda x : x.lower()))\n",
    "representation_tf = get_tf_representation(df['text'].apply(lambda x : x.lower()))\n",
    "representation_tf_idf = get_tf_idf_representation(df['text'].apply(lambda x : x.lower()))\n",
    "\n",
    "del df\n",
    "\n",
    "x_train_boolean = representation_boolean[:len(index_train)]\n",
    "x_val_boolean = representation_boolean[len(index_train):]\n",
    "\n",
    "x_train_tf = representation_tf[:len(index_train)]\n",
    "x_val_tf = representation_tf[len(index_train):]\n",
    "\n",
    "x_train_tf_idf = representation_tf_idf[:len(index_train)]\n",
    "x_val_tf_idf = representation_tf_idf[len(index_train):]\n",
    "\n",
    "\n",
    "y_train = df_train['label']\n",
    "y_val = df_val['label']\n",
    "\n",
    "del df_val\n",
    "del df_train"
   ],
   "metadata": {
    "collapsed": false,
    "pycharm": {
     "name": "#%%\n"
    }
   }
  },
  {
   "cell_type": "code",
   "execution_count": 29,
   "outputs": [
    {
     "name": "stdout",
     "output_type": "stream",
     "text": [
      "Accuracy when using tf representation 0.695\n",
      "(array([0.0145178 , 0.42862081, 0.00207397, ..., 0.00069132, 0.0027653 ,\n",
      "       0.00138265]), array([1.78571429e-02, 1.79974490e+00, 6.37755102e-03, ...,\n",
      "       0.00000000e+00, 0.00000000e+00, 1.27551020e-03]))\n"
     ]
    }
   ],
   "source": [
    "from sklearn.metrics import accuracy_score\n",
    "from sklearn.metrics import roc_auc_score\n",
    "\n",
    "# stopwords_lst = stopwords.words(\"english\")\n",
    "\n",
    "\"\"\"model = centroids_model()\n",
    "model.fit(x_train_boolean, y_train)\n",
    "y_predict = model.predict(x_val_boolean, similarity='cosine_similarity')\n",
    "print('Accuracy when using boolean representation', accuracy_score(y_val, y_predict))\n",
    "\n",
    "model = centroids_model()\n",
    "model.fit(x_train_tf_idf, y_train)\n",
    "y_predict = model.predict(x_val_tf_idf, similarity='cosine_similarity')\n",
    "print('Accuracy when using tf-idf representation', accuracy_score(y_val, y_predict))\"\"\"\n",
    "\n",
    "model = centroids_model()\n",
    "model.fit(x_train_tf, y_train)\n",
    "y_predict = model.predict(x_val_tf, similarity='cosine_similarity')\n",
    "print('Accuracy when using tf representation', accuracy_score(y_val, y_predict))\n",
    "print(model.get_centroids())\n"
   ],
   "metadata": {
    "collapsed": false,
    "pycharm": {
     "name": "#%%\n"
    }
   }
  },
  {
   "cell_type": "code",
   "execution_count": null,
   "outputs": [],
   "source": [],
   "metadata": {
    "collapsed": false,
    "pycharm": {
     "name": "#%%\n"
    }
   }
  }
 ],
 "metadata": {
  "kernelspec": {
   "display_name": "Python 3",
   "language": "python",
   "name": "python3"
  },
  "language_info": {
   "codemirror_mode": {
    "name": "ipython",
    "version": 2
   },
   "file_extension": ".py",
   "mimetype": "text/x-python",
   "name": "python",
   "nbconvert_exporter": "python",
   "pygments_lexer": "ipython2",
   "version": "2.7.6"
  }
 },
 "nbformat": 4,
 "nbformat_minor": 0
}