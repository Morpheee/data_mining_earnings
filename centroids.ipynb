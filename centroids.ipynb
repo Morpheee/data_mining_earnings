{
 "cells": [
  {
   "cell_type": "markdown",
   "metadata": {
    "collapsed": true,
    "pycharm": {
     "name": "#%% md\n"
    }
   },
   "source": [
    "# Define similarity measures"
   ]
  },
  {
   "cell_type": "code",
   "execution_count": 5,
   "outputs": [],
   "source": [
    "import numpy as np\n",
    "\n",
    "def dot_similarity(vector1, vector2):\n",
    "    return np.sum(np.multiply(np.array(vector1), np.array(vector2)))\n",
    "\n",
    "def cosine_similarity(vector1, vector2):\n",
    "    return dot_similarity(vector1, vector2) / np.sqrt(np.sum(vector1)**2 * np.sum(vector2)**2)"
   ],
   "metadata": {
    "collapsed": false,
    "pycharm": {
     "name": "#%%\n"
    }
   }
  },
  {
   "cell_type": "markdown",
   "source": [
    "# Data tokenization"
   ],
   "metadata": {
    "collapsed": false,
    "pycharm": {
     "name": "#%% md\n"
    }
   }
  },
  {
   "cell_type": "code",
   "execution_count": 8,
   "outputs": [],
   "source": [
    "from sklearn.feature_extraction.text import TfidfVectorizer\n",
    "from sklearn.feature_extraction.text import CountVectorizer\n",
    "from nltk.corpus import stopwords\n",
    "# ‘english’\n",
    "def get_boolean_representation(corpus, stop_words_list='english'):\n",
    "    vectorizer = CountVectorizer(binary=True, stop_words=stop_words_list)\n",
    "    X = vectorizer.fit_transform(corpus)\n",
    "    vectorizer.get_feature_names_out()\n",
    "    return X.toarray()\n",
    "\n",
    "def get_tf_representation(corpus, stop_words_list='english'):\n",
    "    vectorizer = CountVectorizer(binary=False, stop_words=stop_words_list)\n",
    "    X = vectorizer.fit_transform(corpus)\n",
    "    vectorizer.get_feature_names_out()\n",
    "    return X.toarray()\n",
    "\n",
    "def get_tf_idf_representation(corpus, stop_words_list='english'):\n",
    "    vectorizer = TfidfVectorizer(stop_words=stop_words_list)\n",
    "    X = vectorizer.fit_transform(corpus)\n",
    "    vectorizer.get_feature_names_out()\n",
    "    return X.toarray()"
   ],
   "metadata": {
    "collapsed": false,
    "pycharm": {
     "name": "#%%\n"
    }
   }
  },
  {
   "cell_type": "markdown",
   "source": [
    "# Define functions for centroid classification"
   ],
   "metadata": {
    "collapsed": false,
    "pycharm": {
     "name": "#%% md\n"
    }
   }
  },
  {
   "cell_type": "code",
   "execution_count": 3,
   "outputs": [],
   "source": [
    "class centroids_model:\n",
    "    centroids_0 = None\n",
    "    centroids_1 = None\n",
    "\n",
    "    def get_centroids(self):\n",
    "        if self.centroids_0 is None or self.centroids_1 is None :\n",
    "            print('Error : class must be fitted before')\n",
    "            exit(-1)\n",
    "        else:\n",
    "            return self.centroids_0, self.centroids_1\n",
    "\n",
    "    def fit(self, data, labels):\n",
    "        index_label_0 = np.argwhere(np.array(labels) == 0).reshape(-1)\n",
    "        index_label_1 = np.argwhere(np.array(labels) == 1).reshape(-1)\n",
    "\n",
    "        # compute centroids\n",
    "        self.centroids_0 = np.sum(data[index_label_0], axis=0) / len(index_label_0)\n",
    "        self.centroids_1 = np.sum(data[index_label_1], axis=0) / len(index_label_1)\n",
    "\n",
    "\n",
    "    def predict(self, data, similarity='cosine'):\n",
    "        if self.centroids_0 is None or self.centroids_1 is None :\n",
    "            print('Error : class must be fitted before prediction')\n",
    "            exit(-1)\n",
    "        if similarity == 'dot':\n",
    "            return [1 if dot_similarity(entry, self.centroids_0) < dot_similarity(entry, self.centroids_1) else 0 for entry in data]\n",
    "        # elif similarity == 'jaccard':\n",
    "        #     return [1 if jaccard_similarity(entry, self.centroids_0) < jaccard_similarity(entry, self.centroids_1) else 0 for entry in data]\n",
    "        else:\n",
    "            return [1 if cosine_similarity(entry, self.centroids_0) < cosine_similarity(entry, self.centroids_1) else 0  for entry in data]"
   ],
   "metadata": {
    "collapsed": false,
    "pycharm": {
     "name": "#%%\n"
    }
   }
  },
  {
   "cell_type": "markdown",
   "source": [
    "# Experiments for centroids classification"
   ],
   "metadata": {
    "collapsed": false,
    "pycharm": {
     "name": "#%% md\n"
    }
   }
  },
  {
   "cell_type": "code",
   "execution_count": 9,
   "outputs": [],
   "source": [
    "import pandas as pd\n",
    "\n",
    "index_train = np.load('../data/array_idx_train.npy')\n",
    "index_val = np.load('../data/array_idx_val.npy')\n",
    "\n",
    "df = pd.read_csv('../data/DataFrame_train_full_preprocessing.csv')\n",
    "\n",
    "representation_boolean = get_boolean_representation(df['text'].apply(lambda x : x.lower()))\n",
    "representation_tf = get_tf_representation(df['text'].apply(lambda x : x.lower()))\n",
    "representation_tf_idf = get_tf_idf_representation(df['text'].apply(lambda x : x.lower()))\n",
    "\n",
    "y_train = df.loc[index_train, 'label']\n",
    "y_val = df.loc[index_val, 'label']\n",
    "\n",
    "del df\n",
    "\n",
    "x_train_boolean = representation_boolean[index_train]\n",
    "x_val_boolean = representation_boolean[index_val]\n",
    "\n",
    "x_train_tf = representation_tf[index_train]\n",
    "x_val_tf = representation_tf[index_val]\n",
    "\n",
    "x_train_tf_idf = representation_tf_idf[index_train]\n",
    "x_val_tf_idf = representation_tf_idf[index_val]\n"
   ],
   "metadata": {
    "collapsed": false,
    "pycharm": {
     "name": "#%%\n"
    }
   }
  },
  {
   "cell_type": "code",
   "execution_count": 10,
   "outputs": [
    {
     "name": "stdout",
     "output_type": "stream",
     "text": [
      "Accuracy when using bool representation 0.6625\n",
      "AUC-ROC when using bool representation 0.7814192343604108\n",
      "Accuracy when using tf representation 0.8725\n",
      "AUC-ROC when using tf representation 0.9061624649859945\n",
      "Accuracy when using tf-idf representation 0.7375\n",
      "AUC-ROC when using tf-idf representation 0.8247432306255836\n"
     ]
    }
   ],
   "source": [
    "from sklearn.metrics import accuracy_score\n",
    "from sklearn.metrics import roc_auc_score\n",
    "\n",
    "model = centroids_model()\n",
    "model.fit(x_train_boolean, y_train)\n",
    "y_predict = model.predict(x_val_boolean, similarity='cosine_similarity')\n",
    "print('Accuracy when using bool representation', accuracy_score(y_val, y_predict))\n",
    "print('AUC-ROC when using bool representation',roc_auc_score(y_val, y_predict))\n",
    "\n",
    "model = centroids_model()\n",
    "model.fit(x_train_tf, y_train)\n",
    "y_predict = model.predict(x_val_tf, similarity='cosine_similarity')\n",
    "print('Accuracy when using tf representation', accuracy_score(y_val, y_predict))\n",
    "print('AUC-ROC when using tf representation',roc_auc_score(y_val, y_predict))\n",
    "\n",
    "model = centroids_model()\n",
    "model.fit(x_train_tf_idf, y_train)\n",
    "y_predict = model.predict(x_val_tf_idf, similarity='cosine_similarity')\n",
    "print('Accuracy when using tf-idf representation', accuracy_score(y_val, y_predict))\n",
    "print('AUC-ROC when using tf-idf representation',roc_auc_score(y_val, y_predict))"
   ],
   "metadata": {
    "collapsed": false,
    "pycharm": {
     "name": "#%%\n"
    }
   }
  },
  {
   "cell_type": "code",
   "execution_count": null,
   "outputs": [],
   "source": [],
   "metadata": {
    "collapsed": false,
    "pycharm": {
     "name": "#%%\n"
    }
   }
  }
 ],
 "metadata": {
  "kernelspec": {
   "display_name": "Python 3",
   "language": "python",
   "name": "python3"
  },
  "language_info": {
   "codemirror_mode": {
    "name": "ipython",
    "version": 2
   },
   "file_extension": ".py",
   "mimetype": "text/x-python",
   "name": "python",
   "nbconvert_exporter": "python",
   "pygments_lexer": "ipython2",
   "version": "2.7.6"
  }
 },
 "nbformat": 4,
 "nbformat_minor": 0
}