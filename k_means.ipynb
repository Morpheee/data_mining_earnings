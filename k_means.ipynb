{
 "cells": [
  {
   "cell_type": "markdown",
   "metadata": {
    "collapsed": true,
    "pycharm": {
     "name": "#%% md\n"
    }
   },
   "source": [
    "# Define similarity measures"
   ]
  },
  {
   "cell_type": "code",
   "execution_count": 22,
   "outputs": [],
   "source": [
    "import numpy as np\n",
    "import pandas as pd\n",
    "from sklearn.metrics import jaccard_score as jaccard_similarity\n",
    "from sklearn.metrics import accuracy_score\n",
    "from sklearn.metrics import roc_auc_score\n",
    "from sklearn.feature_extraction.text import TfidfVectorizer\n",
    "from sklearn.feature_extraction.text import CountVectorizer\n",
    "from sklearn.cluster import KMeans\n"
   ],
   "metadata": {
    "collapsed": false,
    "pycharm": {
     "name": "#%%\n"
    }
   }
  },
  {
   "cell_type": "code",
   "execution_count": 23,
   "outputs": [],
   "source": [
    "def dot_similarity(vector1, vector2):\n",
    "    return np.sum(np.multiply(np.array(vector1), np.array(vector2)))\n",
    "\n",
    "def cosine_similarity(vector1, vector2):\n",
    "    return dot_similarity(vector1, vector2) / np.sqrt(np.sum(vector1)**2 * np.sum(vector2)**2)"
   ],
   "metadata": {
    "collapsed": false,
    "pycharm": {
     "name": "#%%\n"
    }
   }
  },
  {
   "cell_type": "markdown",
   "source": [
    "# Data tokenization"
   ],
   "metadata": {
    "collapsed": false,
    "pycharm": {
     "name": "#%% md\n"
    }
   }
  },
  {
   "cell_type": "code",
   "execution_count": 24,
   "outputs": [],
   "source": [
    "\n",
    "from nltk.corpus import stopwords\n",
    "# ‘english’\n",
    "def get_boolean_representation(corpus, stop_words_list='english'):\n",
    "    vectorizer = CountVectorizer(binary=True, stop_words=stop_words_list)\n",
    "    X = vectorizer.fit_transform(corpus)\n",
    "    return X.toarray(), vectorizer.get_feature_names_out()\n",
    "\n",
    "def get_tf_representation(corpus, stop_words_list='english'):\n",
    "    vectorizer = CountVectorizer(binary=False, stop_words=stop_words_list)\n",
    "    X = vectorizer.fit_transform(corpus)\n",
    "    vectorizer.get_feature_names_out()\n",
    "    return X.toarray()\n",
    "\n",
    "def get_tf_idf_representation(corpus, stop_words_list='english'):\n",
    "    vectorizer = TfidfVectorizer(stop_words=stop_words_list)\n",
    "    X = vectorizer.fit_transform(corpus)\n",
    "    vectorizer.get_feature_names_out()\n",
    "    return X.toarray()"
   ],
   "metadata": {
    "collapsed": false,
    "pycharm": {
     "name": "#%%\n"
    }
   }
  },
  {
   "cell_type": "markdown",
   "source": [
    "# Experiments for k-means\n",
    "\n",
    "We realise two k-means (one for each labels) to try to group the sentences together, in order sentences that are related will be in the same cluster for example for label 0 : if some sentences are about fishing and others about architecture we want them to be separated to create more specific centroids."
   ],
   "metadata": {
    "collapsed": false
   }
  },
  {
   "cell_type": "code",
   "execution_count": 25,
   "outputs": [],
   "source": [
    "\"\"\"import pandas as pd\n",
    "\n",
    "df_train = pd.read_csv(\"../data/DataFrame_train_PREPROCESS.csv\")\n",
    "df_val = pd.read_csv(\"../data/DataFrame_val_PREPROCESS.csv\")\n",
    "\n",
    "index_train = df_train['index']\n",
    "index_val = df_val['index']\n",
    "\n",
    "df = pd.concat([df_train, df_val], ignore_index = True, sort = False)\n",
    "\n",
    "representation_boolean, vocabulary = get_boolean_representation(df['text'].apply(lambda x : x.lower()))\n",
    "representation_tf = get_tf_representation(df['text'].apply(lambda x : x.lower()))\n",
    "representation_tf_idf = get_tf_idf_representation(df['text'].apply(lambda x : x.lower()))\n",
    "\n",
    "del df\n",
    "\n",
    "x_train_boolean = representation_boolean[:len(index_train)]\n",
    "x_val_boolean = representation_boolean[len(index_train):]\n",
    "\n",
    "x_train_tf = representation_tf[:len(index_train)]\n",
    "x_val_tf = representation_tf[len(index_train):]\n",
    "\n",
    "x_train_tf_idf = representation_tf_idf[:len(index_train)]\n",
    "x_val_tf_idf = representation_tf_idf[len(index_train):]\n",
    "\n",
    "y_train = df_train['label']\n",
    "y_val = df_val['label']\n",
    "\n",
    "del df_val\n",
    "del df_train\"\"\"\n",
    "\n",
    "index_train = np.load('../data/array_idx_train.npy')\n",
    "index_val = np.load('../data/array_idx_val.npy')\n",
    "\n",
    "df = pd.read_csv('../data/DataFrame_train_full_preprocessing.csv')\n",
    "\n",
    "representation_boolean, vocabulary = get_boolean_representation(df['text'].apply(lambda x : x.lower()))\n",
    "representation_tf = get_tf_representation(df['text'].apply(lambda x : x.lower()))\n",
    "representation_tf_idf = get_tf_idf_representation(df['text'].apply(lambda x : x.lower()))\n",
    "\n",
    "y_train = df.loc[index_train, 'label']\n",
    "y_val = df.loc[index_val, 'label']\n",
    "\n",
    "del df\n",
    "\n",
    "x_train_boolean = representation_boolean[index_train]\n",
    "x_val_boolean = representation_boolean[index_val]\n",
    "\n",
    "x_train_tf = representation_tf[index_train]\n",
    "x_val_tf = representation_tf[index_val]\n",
    "\n",
    "x_train_tf_idf = representation_tf_idf[index_train]\n",
    "x_val_tf_idf = representation_tf_idf[index_val]"
   ],
   "metadata": {
    "collapsed": false,
    "pycharm": {
     "name": "#%%\n"
    }
   }
  },
  {
   "cell_type": "code",
   "execution_count": 26,
   "outputs": [],
   "source": [
    "class k_means_centroids_model:\n",
    "    centroids = None\n",
    "    centroids_labels = None\n",
    "    n_cluster_1=1\n",
    "    n_cluster_0=1\n",
    "    k_means_labels = None\n",
    "\n",
    "    def get_k_means_labels(self):\n",
    "        if self.k_means_labels is None:\n",
    "            print('Error : class must be fitted before')\n",
    "            exit(-1)\n",
    "        else:\n",
    "            return self.k_means_labels[0], self.k_means_labels[1]\n",
    "\n",
    "\n",
    "    def get_centroids(self):\n",
    "        if self.centroids is None:\n",
    "            print('Error : class must be fitted before')\n",
    "            exit(-1)\n",
    "        else:\n",
    "            return self.centroids[0], self.centroids[1]\n",
    "\n",
    "\n",
    "    def get_centroids_labels(self):\n",
    "        if self.centroids_labels is None:\n",
    "            print('Error : class must be fitted before')\n",
    "            exit(-1)\n",
    "        else:\n",
    "            return self.centroids_labels\n",
    "\n",
    "\n",
    "    def fit(self, data, labels,  n_cluster_1=1, n_cluster_0=1):\n",
    "        self.n_cluster_1 = n_cluster_1\n",
    "        self.n_cluster_0 = n_cluster_0\n",
    "        index_label_0 = np.argwhere(np.array(labels) == 0).reshape(-1)\n",
    "        index_label_1 = np.argwhere(np.array(labels) == 1).reshape(-1)\n",
    "\n",
    "        # k-means for label 1\n",
    "        kmeans_1 = KMeans(n_clusters=n_cluster_1, random_state=0).fit(data[index_label_1])\n",
    "\n",
    "        # k-means for label 0\n",
    "        kmeans_0 = KMeans(n_clusters=n_cluster_0, random_state=0).fit(data[index_label_0])\n",
    "\n",
    "        self.k_means_labels = kmeans_1.labels_, kmeans_0.labels_\n",
    "        self.centroids = kmeans_1.cluster_centers_, kmeans_0.cluster_centers_\n",
    "        self.centroids_labels = np.append((np.zeros(n_cluster_1)+1).astype(int), [(np.zeros(n_cluster_0)).astype(int)])\n",
    "\n",
    "\n",
    "    def predict(self, data, similarity='cosine'):\n",
    "        if self.centroids is None or self.centroids_labels is None :\n",
    "            print('Error : class must be fitted before prediction')\n",
    "            exit(-1)\n",
    "\n",
    "\n",
    "        \"\"\"cluster_label = [i if dot_similarity(entry, self.centroids[i]) > dot_similarity(entry, self.centroids[i+1]) else i+1 \\\n",
    "                         for i in range(len(self.centroids_labels) - 1) \\\n",
    "                         for entry in data\n",
    "                         ]\"\"\"\n",
    "\n",
    "        if similarity == 'dot':\n",
    "            max_in_label_0 = [np.max([dot_similarity(entry, self.centroids[1][j]) for j in range(self.n_cluster_0)]) for entry in data]\n",
    "            max_in_label_1 = [np.max([dot_similarity(entry, self.centroids[0][j]) for j in range(self.n_cluster_1)]) for entry in data]\n",
    "            return [1 if max_in_label_1[i] > max_in_label_0[i] else 0 for i in range(len(max_in_label_1))]\n",
    "        else:\n",
    "            max_in_label_0 = [np.max([cosine_similarity(entry, self.centroids[1][j]) for j in range(self.n_cluster_0)]) for entry in data]\n",
    "            max_in_label_1 = [np.max([cosine_similarity(entry, self.centroids[0][j]) for j in range(self.n_cluster_1)]) for entry in data]\n",
    "            return [1 if max_in_label_1[i] > max_in_label_0[i] else 0 for i in range(len(max_in_label_1))]"
   ],
   "metadata": {
    "collapsed": false,
    "pycharm": {
     "name": "#%%\n"
    }
   }
  },
  {
   "cell_type": "code",
   "execution_count": 27,
   "outputs": [
    {
     "name": "stdout",
     "output_type": "stream",
     "text": [
      "1 1\n",
      "  n_cluster_lab_1 n_cluster_lab_2     acc    aucroc\n",
      "0               1               1  0.6625  0.781419\n",
      "1 2\n",
      "  n_cluster_lab_1 n_cluster_lab_2     acc    aucroc\n",
      "0               1               1  0.6625  0.781419\n",
      "0               1               2  0.7975  0.862838\n",
      "1 3\n",
      "  n_cluster_lab_1 n_cluster_lab_2     acc    aucroc\n",
      "0               1               1  0.6625  0.781419\n",
      "0               1               2  0.7975  0.862838\n",
      "0               1               3  0.7850  0.854902\n",
      "1 4\n",
      "  n_cluster_lab_1 n_cluster_lab_2     acc    aucroc\n",
      "0               1               1  0.6625  0.781419\n",
      "0               1               2  0.7975  0.862838\n",
      "0               1               3  0.7850  0.854902\n",
      "0               1               4  0.8800  0.906629\n",
      "1 5\n",
      "  n_cluster_lab_1 n_cluster_lab_2     acc    aucroc\n",
      "0               1               1  0.6625  0.781419\n",
      "0               1               2  0.7975  0.862838\n",
      "0               1               3  0.7850  0.854902\n",
      "0               1               4  0.8800  0.906629\n",
      "0               1               5  0.8675  0.898693\n",
      "1 6\n",
      "  n_cluster_lab_1 n_cluster_lab_2     acc    aucroc\n",
      "0               1               1  0.6625  0.781419\n",
      "0               1               2  0.7975  0.862838\n",
      "0               1               3  0.7850  0.854902\n",
      "0               1               4  0.8800  0.906629\n",
      "0               1               5  0.8675  0.898693\n",
      "0               1               6  0.8550  0.890756\n",
      "1 7\n",
      "  n_cluster_lab_1 n_cluster_lab_2     acc    aucroc\n",
      "0               1               1  0.6625  0.781419\n",
      "0               1               2  0.7975  0.862838\n",
      "0               1               3  0.7850  0.854902\n",
      "0               1               4  0.8800  0.906629\n",
      "0               1               5  0.8675  0.898693\n",
      "0               1               6  0.8550  0.890756\n",
      "0               1               7  0.8950  0.916153\n",
      "2 1\n",
      "  n_cluster_lab_1 n_cluster_lab_2     acc    aucroc\n",
      "0               1               1  0.6625  0.781419\n",
      "0               1               2  0.7975  0.862838\n",
      "0               1               3  0.7850  0.854902\n",
      "0               1               4  0.8800  0.906629\n",
      "0               1               5  0.8675  0.898693\n",
      "0               1               6  0.8550  0.890756\n",
      "0               1               7  0.8950  0.916153\n",
      "0               2               1  0.4625  0.654435\n",
      "2 2\n",
      "  n_cluster_lab_1 n_cluster_lab_2     acc    aucroc\n",
      "0               1               1  0.6625  0.781419\n",
      "0               1               2  0.7975  0.862838\n",
      "0               1               3  0.7850  0.854902\n",
      "0               1               4  0.8800  0.906629\n",
      "0               1               5  0.8675  0.898693\n",
      "0               1               6  0.8550  0.890756\n",
      "0               1               7  0.8950  0.916153\n",
      "0               2               1  0.4625  0.654435\n",
      "0               2               2  0.5825  0.730626\n",
      "2 3\n",
      "  n_cluster_lab_1 n_cluster_lab_2     acc    aucroc\n",
      "0               1               1  0.6625  0.781419\n",
      "0               1               2  0.7975  0.862838\n",
      "0               1               3  0.7850  0.854902\n",
      "0               1               4  0.8800  0.906629\n",
      "0               1               5  0.8675  0.898693\n",
      "0               1               6  0.8550  0.890756\n",
      "0               1               7  0.8950  0.916153\n",
      "0               2               1  0.4625  0.654435\n",
      "0               2               2  0.5825  0.730626\n",
      "0               2               3  0.5750  0.725864\n",
      "2 4\n",
      "  n_cluster_lab_1 n_cluster_lab_2     acc    aucroc\n",
      "0               1               1  0.6625  0.781419\n",
      "0               1               2  0.7975  0.862838\n",
      "0               1               3  0.7850  0.854902\n",
      "0               1               4  0.8800  0.906629\n",
      "0               1               5  0.8675  0.898693\n",
      "0               1               6  0.8550  0.890756\n",
      "0               1               7  0.8950  0.916153\n",
      "0               2               1  0.4625  0.654435\n",
      "0               2               2  0.5825  0.730626\n",
      "0               2               3  0.5750  0.725864\n",
      "0               2               4  0.6825  0.785528\n",
      "2 5\n",
      "  n_cluster_lab_1 n_cluster_lab_2     acc    aucroc\n",
      "0               1               1  0.6625  0.781419\n",
      "0               1               2  0.7975  0.862838\n",
      "0               1               3  0.7850  0.854902\n",
      "0               1               4  0.8800  0.906629\n",
      "0               1               5  0.8675  0.898693\n",
      "0               1               6  0.8550  0.890756\n",
      "0               1               7  0.8950  0.916153\n",
      "0               2               1  0.4625  0.654435\n",
      "0               2               2  0.5825  0.730626\n",
      "0               2               3  0.5750  0.725864\n",
      "0               2               4  0.6825  0.785528\n",
      "0               2               5  0.6650  0.774416\n",
      "2 6\n",
      "  n_cluster_lab_1 n_cluster_lab_2     acc    aucroc\n",
      "0               1               1  0.6625  0.781419\n",
      "0               1               2  0.7975  0.862838\n",
      "0               1               3  0.7850  0.854902\n",
      "0               1               4  0.8800  0.906629\n",
      "0               1               5  0.8675  0.898693\n",
      "0               1               6  0.8550  0.890756\n",
      "0               1               7  0.8950  0.916153\n",
      "0               2               1  0.4625  0.654435\n",
      "0               2               2  0.5825  0.730626\n",
      "0               2               3  0.5750  0.725864\n",
      "0               2               4  0.6825  0.785528\n",
      "0               2               5  0.6650  0.774416\n",
      "0               2               6  0.7075  0.801401\n",
      "2 7\n",
      "  n_cluster_lab_1 n_cluster_lab_2     acc    aucroc\n",
      "0               1               1  0.6625  0.781419\n",
      "0               1               2  0.7975  0.862838\n",
      "0               1               3  0.7850  0.854902\n",
      "0               1               4  0.8800  0.906629\n",
      "0               1               5  0.8675  0.898693\n",
      "0               1               6  0.8550  0.890756\n",
      "0               1               7  0.8950  0.916153\n",
      "0               2               1  0.4625  0.654435\n",
      "0               2               2  0.5825  0.730626\n",
      "0               2               3  0.5750  0.725864\n",
      "0               2               4  0.6825  0.785528\n",
      "0               2               5  0.6650  0.774416\n",
      "0               2               6  0.7075  0.801401\n",
      "0               2               7  0.7400  0.822035\n",
      "3 1\n",
      "  n_cluster_lab_1 n_cluster_lab_2     acc    aucroc\n",
      "0               1               1  0.6625  0.781419\n",
      "0               1               2  0.7975  0.862838\n",
      "0               1               3  0.7850  0.854902\n",
      "0               1               4  0.8800  0.906629\n",
      "0               1               5  0.8675  0.898693\n",
      "0               1               6  0.8550  0.890756\n",
      "0               1               7  0.8950  0.916153\n",
      "0               2               1  0.4625  0.654435\n",
      "0               2               2  0.5825  0.730626\n",
      "0               2               3  0.5750  0.725864\n",
      "0               2               4  0.6825  0.785528\n",
      "0               2               5  0.6650  0.774416\n",
      "0               2               6  0.7075  0.801401\n",
      "0               2               7  0.7400  0.822035\n",
      "0               3               1  0.3850  0.609524\n",
      "3 2\n",
      "  n_cluster_lab_1 n_cluster_lab_2     acc    aucroc\n",
      "0               1               1  0.6625  0.781419\n",
      "0               1               2  0.7975  0.862838\n",
      "0               1               3  0.7850  0.854902\n",
      "0               1               4  0.8800  0.906629\n",
      "0               1               5  0.8675  0.898693\n",
      "0               1               6  0.8550  0.890756\n",
      "0               1               7  0.8950  0.916153\n",
      "0               2               1  0.4625  0.654435\n",
      "0               2               2  0.5825  0.730626\n",
      "0               2               3  0.5750  0.725864\n",
      "0               2               4  0.6825  0.785528\n",
      "0               2               5  0.6650  0.774416\n",
      "0               2               6  0.7075  0.801401\n",
      "0               2               7  0.7400  0.822035\n",
      "0               3               1  0.3850  0.609524\n",
      "0               3               2  0.5150  0.687768\n",
      "3 3\n",
      "  n_cluster_lab_1 n_cluster_lab_2     acc    aucroc\n",
      "0               1               1  0.6625  0.781419\n",
      "0               1               2  0.7975  0.862838\n",
      "0               1               3  0.7850  0.854902\n",
      "0               1               4  0.8800  0.906629\n",
      "0               1               5  0.8675  0.898693\n",
      "0               1               6  0.8550  0.890756\n",
      "0               1               7  0.8950  0.916153\n",
      "0               2               1  0.4625  0.654435\n",
      "0               2               2  0.5825  0.730626\n",
      "0               2               3  0.5750  0.725864\n",
      "0               2               4  0.6825  0.785528\n",
      "0               2               5  0.6650  0.774416\n",
      "0               2               6  0.7075  0.801401\n",
      "0               2               7  0.7400  0.822035\n",
      "0               3               1  0.3850  0.609524\n",
      "0               3               2  0.5150  0.687768\n",
      "0               3               3  0.5050  0.681419\n",
      "3 4\n",
      "  n_cluster_lab_1 n_cluster_lab_2     acc    aucroc\n",
      "0               1               1  0.6625  0.781419\n",
      "0               1               2  0.7975  0.862838\n",
      "0               1               3  0.7850  0.854902\n",
      "0               1               4  0.8800  0.906629\n",
      "0               1               5  0.8675  0.898693\n",
      "0               1               6  0.8550  0.890756\n",
      "0               1               7  0.8950  0.916153\n",
      "0               2               1  0.4625  0.654435\n",
      "0               2               2  0.5825  0.730626\n",
      "0               2               3  0.5750  0.725864\n",
      "0               2               4  0.6825  0.785528\n",
      "0               2               5  0.6650  0.774416\n",
      "0               2               6  0.7075  0.801401\n",
      "0               2               7  0.7400  0.822035\n",
      "0               3               1  0.3850  0.609524\n",
      "0               3               2  0.5150  0.687768\n",
      "0               3               3  0.5050  0.681419\n",
      "0               3               4  0.6425  0.760131\n",
      "3 5\n",
      "  n_cluster_lab_1 n_cluster_lab_2     acc    aucroc\n",
      "0               1               1  0.6625  0.781419\n",
      "0               1               2  0.7975  0.862838\n",
      "0               1               3  0.7850  0.854902\n",
      "0               1               4  0.8800  0.906629\n",
      "0               1               5  0.8675  0.898693\n",
      "0               1               6  0.8550  0.890756\n",
      "0               1               7  0.8950  0.916153\n",
      "0               2               1  0.4625  0.654435\n",
      "0               2               2  0.5825  0.730626\n",
      "0               2               3  0.5750  0.725864\n",
      "0               2               4  0.6825  0.785528\n",
      "0               2               5  0.6650  0.774416\n",
      "0               2               6  0.7075  0.801401\n",
      "0               2               7  0.7400  0.822035\n",
      "0               3               1  0.3850  0.609524\n",
      "0               3               2  0.5150  0.687768\n",
      "0               3               3  0.5050  0.681419\n",
      "0               3               4  0.6425  0.760131\n",
      "0               3               5  0.5975  0.735854\n",
      "3 6\n",
      "  n_cluster_lab_1 n_cluster_lab_2     acc    aucroc\n",
      "0               1               1  0.6625  0.781419\n",
      "0               1               2  0.7975  0.862838\n",
      "0               1               3  0.7850  0.854902\n",
      "0               1               4  0.8800  0.906629\n",
      "0               1               5  0.8675  0.898693\n",
      "0               1               6  0.8550  0.890756\n",
      "0               1               7  0.8950  0.916153\n",
      "0               2               1  0.4625  0.654435\n",
      "0               2               2  0.5825  0.730626\n",
      "0               2               3  0.5750  0.725864\n",
      "0               2               4  0.6825  0.785528\n",
      "0               2               5  0.6650  0.774416\n",
      "0               2               6  0.7075  0.801401\n",
      "0               2               7  0.7400  0.822035\n",
      "0               3               1  0.3850  0.609524\n",
      "0               3               2  0.5150  0.687768\n",
      "0               3               3  0.5050  0.681419\n",
      "0               3               4  0.6425  0.760131\n",
      "0               3               5  0.5975  0.735854\n",
      "0               3               6  0.6825  0.789823\n",
      "3 7\n",
      "  n_cluster_lab_1 n_cluster_lab_2     acc    aucroc\n",
      "0               1               1  0.6625  0.781419\n",
      "0               1               2  0.7975  0.862838\n",
      "0               1               3  0.7850  0.854902\n",
      "0               1               4  0.8800  0.906629\n",
      "0               1               5  0.8675  0.898693\n",
      "0               1               6  0.8550  0.890756\n",
      "0               1               7  0.8950  0.916153\n",
      "0               2               1  0.4625  0.654435\n",
      "0               2               2  0.5825  0.730626\n",
      "0               2               3  0.5750  0.725864\n",
      "0               2               4  0.6825  0.785528\n",
      "0               2               5  0.6650  0.774416\n",
      "0               2               6  0.7075  0.801401\n",
      "0               2               7  0.7400  0.822035\n",
      "0               3               1  0.3850  0.609524\n",
      "0               3               2  0.5150  0.687768\n",
      "0               3               3  0.5050  0.681419\n",
      "0               3               4  0.6425  0.760131\n",
      "0               3               5  0.5975  0.735854\n",
      "0               3               6  0.6825  0.789823\n",
      "0               3               7  0.7025  0.802521\n"
     ]
    }
   ],
   "source": [
    "results_boolean = pd.DataFrame(columns=['n_cluster_lab_1', 'n_cluster_lab_2', 'acc', 'aucroc'])\n",
    "results_tf = pd.DataFrame(columns=['n_cluster_lab_1', 'n_cluster_lab_2', 'acc', 'aucroc'])\n",
    "results_tf_idf = pd.DataFrame(columns=['n_cluster_lab_1', 'n_cluster_lab_2', 'acc', 'aucroc'])\n",
    "\n",
    "\n",
    "for n_1 in range(1, 4):\n",
    "    for n_2 in range(1, 8):\n",
    "\n",
    "        print(n_1, n_2)\n",
    "\n",
    "        model = k_means_centroids_model()\n",
    "        model.fit(x_train_boolean, y_train, n_cluster_1=n_1, n_cluster_0=n_2)\n",
    "        y_predict = model.predict(x_val_boolean, similarity='cosine_similarity')\n",
    "        results_boolean = results_boolean.append(pd.DataFrame({'n_cluster_lab_1':[n_1],'n_cluster_lab_2':[n_2],'acc':[accuracy_score(y_val, y_predict)],'aucroc':[roc_auc_score(y_val, y_predict)]}))\n",
    "\n",
    "        model = k_means_centroids_model()\n",
    "        model.fit(x_train_tf_idf, y_train, n_cluster_1=n_1, n_cluster_0=n_2)\n",
    "        y_predict = model.predict(x_val_tf_idf, similarity='cosine_similarity')\n",
    "        results_tf = results_tf.append(pd.DataFrame({'n_cluster_lab_1':[n_1],'n_cluster_lab_2':[n_2],'acc':[accuracy_score(y_val, y_predict)],'aucroc':[roc_auc_score(y_val, y_predict)]}))\n",
    "\n",
    "        model = k_means_centroids_model()\n",
    "        model.fit(x_train_tf, y_train, n_cluster_1=n_1, n_cluster_0=n_2)\n",
    "        y_predict = model.predict(x_val_tf, similarity='cosine_similarity')\n",
    "        results_tf_idf = results_tf_idf.append(pd.DataFrame({'n_cluster_lab_1':[n_1],'n_cluster_lab_2':[n_2],'acc':[accuracy_score(y_val, y_predict)],'aucroc':[roc_auc_score(y_val, y_predict)]}))\n",
    "\n",
    "        print(results_boolean)\n",
    "\n",
    "results_boolean.to_csv('k_means_boolean_repr_cosine_1_7_full_prep.csv')\n",
    "results_tf.to_csv('k_means_tf_repr_cosine_1_7_full_prep.csv')\n",
    "results_tf_idf.to_csv('k_means_tf_idf_repr_cosine_1_7_full_prep.csv')"
   ],
   "metadata": {
    "collapsed": false,
    "pycharm": {
     "name": "#%%\n"
    }
   }
  },
  {
   "cell_type": "code",
   "execution_count": 28,
   "outputs": [
    {
     "name": "stdout",
     "output_type": "stream",
     "text": [
      "Results for boolean representation\n",
      "  n_cluster_lab_1 n_cluster_lab_2     acc    aucroc\n",
      "0               1               1  0.6625  0.781419\n",
      "0               1               2  0.7975  0.862838\n",
      "0               1               3  0.7850  0.854902\n",
      "0               1               4  0.8800  0.906629\n",
      "0               1               5  0.8675  0.898693\n",
      "0               1               6  0.8550  0.890756\n",
      "0               1               7  0.8950  0.916153\n",
      "0               2               1  0.4625  0.654435\n",
      "0               2               2  0.5825  0.730626\n",
      "0               2               3  0.5750  0.725864\n",
      "0               2               4  0.6825  0.785528\n",
      "0               2               5  0.6650  0.774416\n",
      "0               2               6  0.7075  0.801401\n",
      "0               2               7  0.7400  0.822035\n",
      "0               3               1  0.3850  0.609524\n",
      "0               3               2  0.5150  0.687768\n",
      "0               3               3  0.5050  0.681419\n",
      "0               3               4  0.6425  0.760131\n",
      "0               3               5  0.5975  0.735854\n",
      "0               3               6  0.6825  0.789823\n",
      "0               3               7  0.7025  0.802521\n",
      "\n",
      "\n",
      "Results for tf representation\n",
      "  n_cluster_lab_1 n_cluster_lab_2     acc    aucroc\n",
      "0               1               1  0.7375  0.824743\n",
      "0               1               2  0.8575  0.896639\n",
      "0               1               3  0.8825  0.908217\n",
      "0               1               4  0.9450  0.935014\n",
      "0               1               5  0.9500  0.938189\n",
      "0               1               6  0.9450  0.935014\n",
      "0               1               7  0.9550  0.937068\n",
      "0               2               1  0.6000  0.741737\n",
      "0               2               2  0.7550  0.835854\n",
      "0               2               3  0.8200  0.872829\n",
      "0               2               4  0.8925  0.910271\n",
      "0               2               5  0.8975  0.909150\n",
      "0               2               6  0.9100  0.921382\n",
      "0               2               7  0.9200  0.923436\n",
      "0               3               1  0.4675  0.661905\n",
      "0               3               2  0.6100  0.748086\n",
      "0               3               3  0.6700  0.781886\n",
      "0               3               4  0.7975  0.858543\n",
      "0               3               5  0.8050  0.863305\n",
      "0               3               6  0.8050  0.859010\n",
      "0               3               7  0.8425  0.887115\n",
      "\n",
      "\n",
      "Results for tf-idf representation\n",
      "  n_cluster_lab_1 n_cluster_lab_2     acc    aucroc\n",
      "0               1               1  0.8725  0.906162\n",
      "0               1               2  0.8950  0.920448\n",
      "0               1               3  0.9075  0.928385\n",
      "0               1               4  0.9125  0.927264\n",
      "0               1               5  0.9125  0.927264\n",
      "0               1               6  0.9350  0.915780\n",
      "0               1               7  0.9225  0.929318\n",
      "0               2               1  0.5825  0.730626\n",
      "0               2               2  0.6300  0.760784\n",
      "0               2               3  0.6575  0.778245\n",
      "0               2               4  0.7000  0.805229\n",
      "0               2               5  0.7225  0.819514\n",
      "0               2               6  0.8775  0.896452\n",
      "0               2               7  0.7975  0.867134\n",
      "0               3               1  0.3275  0.573016\n",
      "0               3               2  0.3775  0.604762\n",
      "0               3               3  0.4050  0.622222\n",
      "0               3               4  0.4925  0.677778\n",
      "0               3               5  0.4750  0.662372\n",
      "0               3               6  0.7600  0.834734\n",
      "0               3               7  0.5875  0.733800\n",
      "\n",
      "\n"
     ]
    }
   ],
   "source": [
    "print(\"Results for boolean representation\")\n",
    "print(results_boolean)\n",
    "print('\\n')\n",
    "print(\"Results for tf representation\")\n",
    "print(results_tf)\n",
    "print('\\n')\n",
    "print(\"Results for tf-idf representation\")\n",
    "print(results_tf_idf)\n",
    "print('\\n')"
   ],
   "metadata": {
    "collapsed": false,
    "pycharm": {
     "name": "#%%\n"
    }
   }
  },
  {
   "cell_type": "code",
   "execution_count": 20,
   "outputs": [],
   "source": [],
   "metadata": {
    "collapsed": false,
    "pycharm": {
     "name": "#%%\n"
    }
   }
  },
  {
   "cell_type": "code",
   "execution_count": 31,
   "outputs": [
    {
     "data": {
      "text/plain": "<Figure size 1080x360 with 3 Axes>",
      "image/png": "[encoded data removed]"
     },
     "metadata": {
      "needs_background": "light"
     },
     "output_type": "display_data"
    },
    {
     "data": {
      "text/plain": "<Figure size 1080x360 with 3 Axes>",
      "image/png": "[encoded data removed]"
     },
     "metadata": {
      "needs_background": "light"
     },
     "output_type": "display_data"
    },
    {
     "data": {
      "text/plain": "<Figure size 1080x360 with 3 Axes>",
      "image/png": "[encoded data removed]"
     },
     "metadata": {
      "needs_background": "light"
     },
     "output_type": "display_data"
    }
   ],
   "source": [
    "import matplotlib.pyplot as plt\n",
    "\n",
    "z = 0\n",
    "filename = ['accuracy_boolean_repr_1_7_full_prep.png', 'accuracy_tf_repr_1_7_full_prep.png', 'accuracy_tf_idf_repr_1_7_full_prep.png']\n",
    "for df in [results_boolean, results_tf, results_tf_idf]:\n",
    "    fig = plt.figure(figsize=(15,5))\n",
    "    fig.title =  'Accuracy depending on the number of clusters'\n",
    "\n",
    "    ax1 = fig.add_subplot(1, 3, 1)\n",
    "    ax2 = fig.add_subplot(1, 3, 2, sharey=ax1)\n",
    "    ax3 = fig.add_subplot(1, 3, 3, sharey=ax1)\n",
    "\n",
    "    x, y = np.array(df[df['n_cluster_lab_1'] == 1]['n_cluster_lab_2'].tolist()), np.array(df[df['n_cluster_lab_1'] == 1]['acc'].tolist())\n",
    "    ax1.plot(x, y)\n",
    "    ax1.scatter(x, y, c='red', marker='+')\n",
    "    ax1.set_title(\"1 cluster for label 1\")\n",
    "    ax1.set_xlim([1,8])\n",
    "    ax1.set_ylim([0,1])\n",
    "    ax1.set_xlabel(\"number of cluster for label 2\")\n",
    "    ax1.set_ylabel(\"accuracy\")\n",
    "\n",
    "    x, y = np.array(df[df['n_cluster_lab_1'] == 2]['n_cluster_lab_2'].tolist()), np.array(df[df['n_cluster_lab_1'] == 2]['acc'].tolist())\n",
    "    ax2.plot(x, y)\n",
    "    ax2.scatter(x, y, c='red', marker='+')\n",
    "    ax2.set_title(\"2 clusters for label 1\")\n",
    "    ax2.set_xlim([1,8])\n",
    "    ax2.set_ylim([0,1])\n",
    "    ax2.set_xlabel(\"number of cluster for label 2\")\n",
    "    ax2.set_ylabel(\"accuracy\")\n",
    "\n",
    "    x, y = np.array(df[df['n_cluster_lab_1'] == 3]['n_cluster_lab_2'].tolist()), np.array(df[df['n_cluster_lab_1'] == 3]['acc'].tolist())\n",
    "    ax3.plot(x, y)\n",
    "    ax3.scatter(x, y, c='red', marker='+')\n",
    "    ax3.set_title(\"3 clusters for label 1\")\n",
    "    ax3.set_xlim([1,8])\n",
    "    ax3.set_ylim([0,1])\n",
    "    ax3.set_xlabel(\"number of cluster for label 2\")\n",
    "    ax3.set_ylabel(\"accuracy\")\n",
    "\n",
    "    plt.show()\n",
    "    fig.savefig(fname=filename[z])\n",
    "    z += 1"
   ],
   "metadata": {
    "collapsed": false,
    "pycharm": {
     "name": "#%%\n"
    }
   }
  },
  {
   "cell_type": "code",
   "execution_count": null,
   "outputs": [
    {
     "data": {
      "text/plain": "<Figure size 1080x360 with 3 Axes>",
      "image/png": "[encoded data removed]"
     },
     "metadata": {
      "needs_background": "light"
     },
     "output_type": "display_data"
    },
    {
     "data": {
      "text/plain": "<Figure size 1080x360 with 3 Axes>",
      "image/png": "[encoded data removed]"
     },
     "metadata": {
      "needs_background": "light"
     },
     "output_type": "display_data"
    }
   ],
   "source": [
    "import matplotlib.pyplot as plt\n",
    "\n",
    "z = 0\n",
    "filename = ['auc_roc_boolean_repr_1_7_full_prep.png', 'auc_roc_tf_repr_1_7_full_prep.png', 'auc_roc_tf_idf_repr_1_7_full_prep.png']\n",
    "for df in [results_boolean, results_tf, results_tf_idf]:\n",
    "    fig = plt.figure(figsize=(15,5))\n",
    "    plt.title =  'AUC-ROC depending on the number of clusters'\n",
    "\n",
    "    ax1 = fig.add_subplot(1, 3, 1)\n",
    "    ax2 = fig.add_subplot(1, 3, 2, sharey=ax1)\n",
    "    ax3 = fig.add_subplot(1, 3, 3, sharey=ax1)\n",
    "\n",
    "    x, y = np.array(df[df['n_cluster_lab_1'] == 1]['n_cluster_lab_2'].tolist()), np.array(df[df['n_cluster_lab_1'] == 1]['aucroc'].tolist())\n",
    "    ax1.plot(x, y)\n",
    "    ax1.scatter(x, y, c='red', marker='+')\n",
    "    ax1.set_title(\"1 cluster for label 1\")\n",
    "    ax1.set_xlim([1,8])\n",
    "    ax1.set_ylim([0,1])\n",
    "    ax1.set_xlabel(\"number of cluster for label 2\")\n",
    "    ax1.set_ylabel(\"AUC-ROC\")\n",
    "\n",
    "    x, y = np.array(df[df['n_cluster_lab_1'] == 2]['n_cluster_lab_2'].tolist()), np.array(df[df['n_cluster_lab_1'] == 2]['aucroc'].tolist())\n",
    "    ax2.plot(x, y)\n",
    "    ax2.scatter(x, y, c='red', marker='+')\n",
    "    ax2.set_title(\"2 clusters for label 1\")\n",
    "    ax2.set_xlim([1,8])\n",
    "    ax2.set_ylim([0,1])\n",
    "    ax2.set_xlabel(\"number of cluster for label 2\")\n",
    "    ax2.set_ylabel(\"AUC-ROC\")\n",
    "\n",
    "    x, y = np.array(df[df['n_cluster_lab_1'] == 3]['n_cluster_lab_2'].tolist()), np.array(df[df['n_cluster_lab_1'] == 3]['aucroc'].tolist())\n",
    "    ax3.plot(x, y)\n",
    "    ax3.scatter(x, y, c='red', marker='+')\n",
    "    ax3.set_title(\"3 clusters for label 1\")\n",
    "    ax3.set_xlim([1,8])\n",
    "    ax3.set_ylim([0,1])\n",
    "    ax3.set_xlabel(\"number of cluster for label 2\")\n",
    "    ax3.set_ylabel(\"AUC-ROC\")\n",
    "\n",
    "    plt.show()\n",
    "    fig.savefig(fname=filename[z])\n",
    "    z += 1"
   ],
   "metadata": {
    "collapsed": false,
    "pycharm": {
     "name": "#%%\n",
     "is_executing": true
    }
   }
  },
  {
   "cell_type": "markdown",
   "source": [
    "# Evaluation of clustering"
   ],
   "metadata": {
    "collapsed": false,
    "pycharm": {
     "name": "#%% md\n"
    }
   }
  },
  {
   "cell_type": "code",
   "execution_count": 9,
   "outputs": [
    {
     "name": "stdout",
     "output_type": "stream",
     "text": [
      "Best silhouette -0.014515277615406481 best ch score 20.99978743332352\n",
      "Centroid silhouette 0.2540932566811898 centroid ch score 24.82724928688825\n",
      "done\n"
     ]
    }
   ],
   "source": [
    "from sklearn.metrics import silhouette_score, calinski_harabasz_score\n",
    "\n",
    "best_model = k_means_centroids_model()\n",
    "best_model.fit(x_train_boolean, y_train, n_cluster_1=1, n_cluster_0=6)\n",
    "best_cluster = best_model.get_k_means_labels()\n",
    "\n",
    "index_label_0 = np.argwhere(np.array(y_train) == 0).reshape(-1)\n",
    "x_train_0 = x_train_boolean[index_label_0]\n",
    "\n",
    "best_silhouette = silhouette_score(x_train_0, best_cluster[1])\n",
    "best_ch_score = calinski_harabasz_score(x_train_0, best_cluster[1])\n",
    "print('Best silhouette', best_silhouette, 'best ch score', best_ch_score)\n",
    "\n",
    "\n",
    "\n",
    "centroid_model = k_means_centroids_model()\n",
    "centroid_model.fit(x_train_boolean, y_train, n_cluster_1=1, n_cluster_0=3)\n",
    "centroid_cluster = centroid_model.get_k_means_labels()\n",
    "\n",
    "index_label_0 = np.argwhere(np.array(y_train) == 0).reshape(-1)\n",
    "x_train_0 = x_train_boolean[index_label_0]\n",
    "\n",
    "centroid_silhouette = silhouette_score(x_train_0, centroid_cluster[1])\n",
    "centroid_ch_score = calinski_harabasz_score(x_train_0, centroid_cluster[1])\n",
    "print('Centroid silhouette', centroid_silhouette, 'centroid ch score', centroid_ch_score)\n",
    "\n",
    "print('done')"
   ],
   "metadata": {
    "collapsed": false,
    "pycharm": {
     "name": "#%%\n"
    }
   }
  },
  {
   "cell_type": "code",
   "execution_count": null,
   "outputs": [],
   "source": [
    "best_model = k_means_centroids_model()\n",
    "best_model.fit(x_train_boolean, y_train, n_cluster_1=1, n_cluster_0=7)\n",
    "best_cluster = best_model.get_k_means_labels()\n",
    "\n",
    "index_label_0 = np.argwhere(np.array(y_train) == 0).reshape(-1)\n",
    "x_train_0 = x_train_boolean[index_label_0]\n",
    "\n",
    "clustered_data = pd.DataFrame({'data':x_train_0, 'labels':best_cluster[1]})\n",
    "\n",
    "count = dict({0:np.zeros(len(vocabulary)),\n",
    "              1:np.zeros(len(vocabulary)),\n",
    "              2:np.zeros(len(vocabulary)),\n",
    "              3:np.zeros(len(vocabulary)),\n",
    "              4:np.zeros(len(vocabulary)),\n",
    "              5:np.zeros(len(vocabulary)),\n",
    "              6:np.zeros(len(vocabulary))})\n",
    "\n",
    "for i in range(7):\n",
    "    for sentence in clustered_data[clustered_data['label']==i]['data']:\n",
    "        for word in sentence:\n",
    "            idx = np.where(x==word)\n",
    "            count[i][idx] += 1"
   ],
   "metadata": {
    "collapsed": false,
    "pycharm": {
     "name": "#%%\n"
    }
   }
  },
  {
   "cell_type": "code",
   "execution_count": 15,
   "outputs": [
    {
     "name": "stdout",
     "output_type": "stream",
     "text": [
      "19635\n"
     ]
    }
   ],
   "source": [
    "# get the k most frequent words\n",
    "k = 30\n",
    "for i in range(7):\n",
    "    count[i] = np.sort(count[i])[::-1].head(k)\n"
   ],
   "metadata": {
    "collapsed": false,
    "pycharm": {
     "name": "#%%\n"
    }
   }
  },
  {
   "cell_type": "code",
   "execution_count": null,
   "outputs": [],
   "source": [],
   "metadata": {
    "collapsed": false,
    "pycharm": {
     "name": "#%%\n"
    }
   }
  }
 ],
 "metadata": {
  "kernelspec": {
   "display_name": "Python 3",
   "language": "python",
   "name": "python3"
  },
  "language_info": {
   "codemirror_mode": {
    "name": "ipython",
    "version": 2
   },
   "file_extension": ".py",
   "mimetype": "text/x-python",
   "name": "python",
   "nbconvert_exporter": "python",
   "pygments_lexer": "ipython2",
   "version": "2.7.6"
  }
 },
 "nbformat": 4,
 "nbformat_minor": 0
}