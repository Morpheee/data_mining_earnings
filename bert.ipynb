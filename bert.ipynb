{
 "cells": [
  {
   "cell_type": "code",
   "execution_count": null,
   "outputs": [],
   "source": [
    "# ### for colab ###\n",
    "\n",
    "# !pip install transformers\n",
    "# from google.colab import drive\n",
    "# drive.mount('/content/drive')"
   ],
   "metadata": {
    "collapsed": false,
    "pycharm": {
     "name": "#%%\n"
    }
   }
  },
  {
   "cell_type": "code",
   "execution_count": null,
   "metadata": {
    "collapsed": true,
    "id": "vNZlaaWkPnpp"
   },
   "outputs": [],
   "source": [
    "# source : https://iq.opengenus.org/binary-text-classification-bert/\n",
    "\n",
    "########################################\n",
    "### imports ###\n",
    "########################################\n",
    "\n",
    "# print(\"\\n\\t**** start : imports ****\\n\")\n",
    "\n",
    "import seaborn as sns\n",
    "from matplotlib import pyplot as plt\n",
    "import random\n",
    "import time\n",
    "import datetime\n",
    "import pandas as pd\n",
    "from tqdm import tqdm\n",
    "import numpy as np\n",
    "from transformers import BertTokenizer, BertForSequenceClassification, AdamW, get_linear_schedule_with_warmup\n",
    "from keras.preprocessing.sequence import pad_sequences\n",
    "from sklearn.model_selection import train_test_split\n",
    "import torch\n",
    "import tensorflow as tf\n",
    "from sklearn.metrics import matthews_corrcoef, roc_auc_score\n",
    "from torch.utils.data import TensorDataset, DataLoader, RandomSampler, SequentialSampler"
   ]
  },
  {
   "cell_type": "code",
   "execution_count": null,
   "outputs": [],
   "source": [
    "# initialize tqdm\n",
    "tqdm.pandas()\n",
    "\n",
    "# limit VRAM usage\n",
    "#!export PYTORCH_CUDA_ALLOC_CONF=max_split_size_mb:4096\n",
    "\n",
    "#torch.cuda.set_per_process_memory_fraction(0.4, 0)\n",
    "torch.cuda.empty_cache()"
   ],
   "metadata": {
    "pycharm": {
     "name": "#%%\n"
    },
    "id": "N4QgswTOPnpw"
   }
  },
  {
   "cell_type": "code",
   "execution_count": null,
   "outputs": [],
   "source": [
    "path_train = \"../data/dataframe_train.csv\"  # \"/content/drive/MyDrive/dmbd/data/dataframe_train.csv\"\n",
    "path_val = \"../data/dataframe_val.csv\"  # \"/content/drive/MyDrive/dmbd/data/dataframe_val.csv\"\n",
    "path_test = \"../data/dataframe_test.csv\"  # \"/content/drive/MyDrive/dmbd/data/dataframe_test.csv\"\n",
    "path_save_plot = \"../images/bert_loss_acc_auc_time_train.jpg\"  # \"/content/drive/MyDrive/dmbd/images/bert_loss_acc_auc_time_train.jpg\"\n",
    "path_scores = \"./metrics_on_validation_set.csv\" # \"/content/drive/MyDrive/dmbd/data_mining_earnings/metrics_on_validation_set.csv\"\n",
    "path_save_submission = \"./submission_no_na.csv\" # \"/content/drive/MyDrive/dmbd/data_mining_earnings/submission_no_na.csv\"\n",
    "epochs = 6\n",
    "batch_size_train = 12\n",
    "batch_size_test = 12"
   ],
   "metadata": {
    "pycharm": {
     "name": "#%%\n"
    },
    "id": "DjU_RldxPnpy"
   }
  },
  {
   "cell_type": "code",
   "execution_count": null,
   "outputs": [
    {
     "output_type": "stream",
     "name": "stdout",
     "text": [
      "Tensorflow : Found GPU at: /device:GPU:0\n",
      "PyTorch : There are 1 GPU(s) available.\n",
      "PyTorch : We will use the GPU: Tesla T4\n"
     ]
    }
   ],
   "source": [
    "########################################\n",
    "### using GPU ###\n",
    "########################################\n",
    "\n",
    "# print(\"\\n\\t**** start : using GPU ****\\n\")\n",
    "\n",
    "## tensoflow ##\n",
    "device_name = tf.test.gpu_device_name()\n",
    "if device_name == '/device:GPU:0':\n",
    "    print('Tensorflow : Found GPU at: {}'.format(device_name))\n",
    "else:\n",
    "    raise SystemError('Tensorflow : GPU device not found')\n",
    "## pytorch ##\n",
    "if torch.cuda.is_available():\n",
    "    device = torch.device(\"cuda\")\n",
    "    print('PyTorch : There are %d GPU(s) available.' % torch.cuda.device_count())\n",
    "    print('PyTorch : We will use the GPU:', torch.cuda.get_device_name(0))\n",
    "else:\n",
    "    print('PyTorch : No GPU available, using the CPU instead.')\n",
    "    device = torch.device(\"cpu\")"
   ],
   "metadata": {
    "pycharm": {
     "name": "#%%\n"
    },
    "id": "W-PhJptkPnp0",
    "outputId": "334a2fc1-e54c-4f9a-a4e2-ba06f70de828",
    "colab": {
     "base_uri": "https://localhost:8080/"
    }
   }
  },
  {
   "cell_type": "code",
   "execution_count": null,
   "outputs": [],
   "source": [
    "########################################\n",
    "### import datasets ###\n",
    "########################################\n",
    "\n",
    "# print(\"\\n\\t**** start : import datasets ****\\n\")\n",
    "\n",
    "df = pd.read_csv(path_train)\n",
    "sentences = df[\"text\"].values\n",
    "labels = df[\"label\"].values\n",
    "del df"
   ],
   "metadata": {
    "pycharm": {
     "name": "#%%\n"
    },
    "id": "j0m94On-Pnp2"
   }
  },
  {
   "cell_type": "code",
   "execution_count": null,
   "outputs": [
    {
     "output_type": "stream",
     "name": "stderr",
     "text": [
      "Loading...:   0%|          | 0/3677 [00:00<?, ?it/s]Token indices sequence length is longer than the specified maximum sequence length for this model (535 > 512). Running this sequence through the model will result in indexing errors\n",
      "Loading...: 100%|██████████| 3677/3677 [00:21<00:00, 168.96it/s]\n"
     ]
    }
   ],
   "source": [
    "########################################\n",
    "### sentences to IDs and padding ###\n",
    "########################################\n",
    "\n",
    "# print(\"\\n\\t**** start : sentences to IDs and padding ****\\n\")\n",
    "\n",
    "## tokenizer ##\n",
    "\n",
    "tokenizer = BertTokenizer.from_pretrained('bert-base-uncased', do_lower_case=True)\n",
    "\n",
    "## convert sentences ##\n",
    "\n",
    "input_ids = []\n",
    "i, n = 0, len(sentences)\n",
    "for i in tqdm(range(n), desc=\"Loading...\"):\n",
    "    sent = sentences[i]\n",
    "    # print(\"{:.2f} %\".format(i/n*100), end=\"\\r\")\n",
    "    encoded_sent = tokenizer.encode(\n",
    "        sent,\n",
    "        add_special_tokens=True,\n",
    "    )\n",
    "    input_ids.append(encoded_sent)\n",
    "\n",
    "## padding & Truncating to fit max length ##\n",
    "\n",
    "MAX_LEN = 512\n",
    "input_ids = list(pad_sequences(\n",
    "    input_ids,\n",
    "    maxlen=MAX_LEN,\n",
    "    dtype=\"long\",\n",
    "    value=0,\n",
    "    truncating=\"post\",\n",
    "    padding=\"post\"\n",
    "))"
   ],
   "metadata": {
    "pycharm": {
     "name": "#%%\n"
    },
    "id": "ZepzKw6aPnp3",
    "outputId": "0b008d0f-3fda-46b7-e39a-d70cdd7b2082",
    "colab": {
     "base_uri": "https://localhost:8080/"
    }
   }
  },
  {
   "cell_type": "code",
   "execution_count": null,
   "outputs": [],
   "source": [
    "########################################\n",
    "### attention masks ###\n",
    "########################################\n",
    "\n",
    "# print(\"\\n\\t**** start : attention masks ****\\n\")\n",
    "\n",
    "attention_masks = []\n",
    "for sent in input_ids:\n",
    "    att_mask = [int(token_id > 0) for token_id in sent]\n",
    "    attention_masks.append(att_mask)\n",
    "# 1 when actual token, 0 when padding"
   ],
   "metadata": {
    "pycharm": {
     "name": "#%%\n"
    },
    "id": "Niw3d1ZqPnp6"
   }
  },
  {
   "cell_type": "code",
   "execution_count": null,
   "outputs": [
    {
     "output_type": "stream",
     "name": "stderr",
     "text": [
      "/usr/local/lib/python3.7/dist-packages/ipykernel_launcher.py:12: UserWarning: Creating a tensor from a list of numpy.ndarrays is extremely slow. Please consider converting the list to a single numpy.ndarray with numpy.array() before converting to a tensor. (Triggered internally at  ../torch/csrc/utils/tensor_new.cpp:201.)\n",
      "  if sys.path[0] == '':\n"
     ]
    }
   ],
   "source": [
    "########################################\n",
    "### train test split ###\n",
    "########################################\n",
    "\n",
    "# print(\"\\n\\t**** start : train test split ****\\n\")\n",
    "\n",
    "train_inputs, validation_inputs, train_labels, validation_labels, train_masks, validation_masks = train_test_split(\n",
    "    input_ids, labels, attention_masks,\n",
    "    random_state=42, test_size=0.1)\n",
    "\n",
    "# changing the numpy arrays into tensors for working on GPU.\n",
    "train_inputs = torch.tensor(train_inputs)\n",
    "validation_inputs = torch.tensor(validation_inputs)\n",
    "\n",
    "train_labels = torch.tensor(train_labels)\n",
    "validation_labels = torch.tensor(validation_labels)\n",
    "\n",
    "train_masks = torch.tensor(train_masks)\n",
    "validation_masks = torch.tensor(validation_masks)\n",
    "\n",
    "# DataLoader for our training set.\n",
    "train_data = TensorDataset(train_inputs, train_masks, train_labels)\n",
    "train_sampler = RandomSampler(train_data)\n",
    "train_dataloader = DataLoader(train_data, sampler=train_sampler, batch_size=batch_size_train)\n",
    "\n",
    "# DataLoader for our validation(test) set.\n",
    "validation_data = TensorDataset(validation_inputs, validation_masks, validation_labels)\n",
    "validation_sampler = SequentialSampler(validation_data)\n",
    "validation_dataloader = DataLoader(validation_data, sampler=validation_sampler, batch_size=batch_size_train)"
   ],
   "metadata": {
    "pycharm": {
     "name": "#%%\n"
    },
    "id": "w3rEAYvAPnp6",
    "outputId": "ff549dcb-c766-4800-8833-33100486168e",
    "colab": {
     "base_uri": "https://localhost:8080/"
    }
   }
  },
  {
   "cell_type": "code",
   "execution_count": null,
   "outputs": [
    {
     "output_type": "stream",
     "name": "stderr",
     "text": [
      "Some weights of the model checkpoint at bert-base-uncased were not used when initializing BertForSequenceClassification: ['cls.predictions.transform.LayerNorm.bias', 'cls.seq_relationship.weight', 'cls.predictions.transform.dense.bias', 'cls.predictions.transform.LayerNorm.weight', 'cls.predictions.bias', 'cls.predictions.decoder.weight', 'cls.predictions.transform.dense.weight', 'cls.seq_relationship.bias']\n",
      "- This IS expected if you are initializing BertForSequenceClassification from the checkpoint of a model trained on another task or with another architecture (e.g. initializing a BertForSequenceClassification model from a BertForPreTraining model).\n",
      "- This IS NOT expected if you are initializing BertForSequenceClassification from the checkpoint of a model that you expect to be exactly identical (initializing a BertForSequenceClassification model from a BertForSequenceClassification model).\n",
      "Some weights of BertForSequenceClassification were not initialized from the model checkpoint at bert-base-uncased and are newly initialized: ['classifier.weight', 'classifier.bias']\n",
      "You should probably TRAIN this model on a down-stream task to be able to use it for predictions and inference.\n"
     ]
    },
    {
     "output_type": "stream",
     "name": "stdout",
     "text": [
      "The BERT model has 201 different named parameters.\n",
      "\n",
      "==== Embedding Layer ====\n",
      "\n",
      "bert.embeddings.word_embeddings.weight                  (30522, 768)\n",
      "bert.embeddings.position_embeddings.weight                (512, 768)\n",
      "bert.embeddings.token_type_embeddings.weight                (2, 768)\n",
      "bert.embeddings.LayerNorm.weight                              (768,)\n",
      "bert.embeddings.LayerNorm.bias                                (768,)\n",
      "\n",
      "==== First Transformer ====\n",
      "\n",
      "bert.encoder.layer.0.attention.self.query.weight          (768, 768)\n",
      "bert.encoder.layer.0.attention.self.query.bias                (768,)\n",
      "bert.encoder.layer.0.attention.self.key.weight            (768, 768)\n",
      "bert.encoder.layer.0.attention.self.key.bias                  (768,)\n",
      "bert.encoder.layer.0.attention.self.value.weight          (768, 768)\n",
      "bert.encoder.layer.0.attention.self.value.bias                (768,)\n",
      "bert.encoder.layer.0.attention.output.dense.weight        (768, 768)\n",
      "bert.encoder.layer.0.attention.output.dense.bias              (768,)\n",
      "bert.encoder.layer.0.attention.output.LayerNorm.weight        (768,)\n",
      "bert.encoder.layer.0.attention.output.LayerNorm.bias          (768,)\n",
      "bert.encoder.layer.0.intermediate.dense.weight           (3072, 768)\n",
      "bert.encoder.layer.0.intermediate.dense.bias                 (3072,)\n",
      "bert.encoder.layer.0.output.dense.weight                 (768, 3072)\n",
      "bert.encoder.layer.0.output.dense.bias                        (768,)\n",
      "bert.encoder.layer.0.output.LayerNorm.weight                  (768,)\n",
      "bert.encoder.layer.0.output.LayerNorm.bias                    (768,)\n",
      "\n",
      "==== Output Layer ====\n",
      "\n",
      "bert.pooler.dense.weight                                  (768, 768)\n",
      "bert.pooler.dense.bias                                        (768,)\n",
      "classifier.weight                                           (2, 768)\n",
      "classifier.bias                                                 (2,)\n"
     ]
    }
   ],
   "source": [
    "########################################\n",
    "### train classifier model ###\n",
    "########################################\n",
    "\n",
    "# print(\"\\n\\t**** start : train classifier model ****\\n\")\n",
    "\n",
    "model = BertForSequenceClassification.from_pretrained(\n",
    "    \"bert-base-uncased\",\n",
    "    num_labels=2,\n",
    "    output_attentions=False,\n",
    "    output_hidden_states=False\n",
    ")\n",
    "# run on GPU with pytorch\n",
    "model.cuda()\n",
    "\n",
    "## print out the model ##\n",
    "# Get all of the model's parameters as a list of tuples.\n",
    "params = list(model.named_parameters())\n",
    "print('The BERT model has {:} different named parameters.\\n'.format(len(params)))\n",
    "print('==== Embedding Layer ====\\n')\n",
    "for p in params[0:5]:\n",
    "    print(\"{:<55} {:>12}\".format(p[0], str(tuple(p[1].size()))))\n",
    "print('\\n==== First Transformer ====\\n')\n",
    "for p in params[5:21]:\n",
    "    print(\"{:<55} {:>12}\".format(p[0], str(tuple(p[1].size()))))\n",
    "print('\\n==== Output Layer ====\\n')\n",
    "for p in params[-4:]:\n",
    "    print(\"{:<55} {:>12}\".format(p[0], str(tuple(p[1].size()))))"
   ],
   "metadata": {
    "pycharm": {
     "name": "#%%\n"
    },
    "id": "euSr6ahDPnp9",
    "outputId": "80b6d153-a15c-45e0-f47b-3d65bbb1277f",
    "colab": {
     "base_uri": "https://localhost:8080/"
    }
   }
  },
  {
   "cell_type": "code",
   "execution_count": null,
   "outputs": [
    {
     "output_type": "stream",
     "name": "stderr",
     "text": [
      "/usr/local/lib/python3.7/dist-packages/transformers/optimization.py:309: FutureWarning: This implementation of AdamW is deprecated and will be removed in a future version. Use thePyTorch implementation torch.optim.AdamW instead, or set `no_deprecation_warning=True` to disable this warning\n",
      "  FutureWarning,\n"
     ]
    }
   ],
   "source": [
    "########################################\n",
    "### optimizer ###\n",
    "########################################\n",
    "\n",
    "# print(\"\\n\\t**** start : optimizer ****\\n\")\n",
    "\n",
    "optimizer = AdamW(model.parameters(),\n",
    "                  lr=2e-5,\n",
    "                  eps=1e-8\n",
    "                  )\n",
    "total_steps = len(train_dataloader) * epochs\n",
    "scheduler = get_linear_schedule_with_warmup(optimizer,\n",
    "                                            num_warmup_steps=0,\n",
    "                                            num_training_steps=total_steps)"
   ],
   "metadata": {
    "pycharm": {
     "name": "#%%\n"
    },
    "id": "ucqxQT5KPnp-",
    "colab": {
     "base_uri": "https://localhost:8080/"
    },
    "outputId": "276a4e1a-2035-420d-a201-4a1fccbec1be"
   }
  },
  {
   "cell_type": "code",
   "execution_count": null,
   "outputs": [],
   "source": [
    "########################################\n",
    "### training ###\n",
    "########################################\n",
    "\n",
    "# print(\"\\n\\t**** start : training ****\\n\")\n",
    "\n",
    "def flat_accuracy(preds, labels):\n",
    "    '''\n",
    "    Calculate the accuracy of our predictions vs labels\n",
    "    '''\n",
    "    pred_flat = np.argmax(preds, axis=1).flatten()\n",
    "    labels_flat = labels.flatten()\n",
    "    return np.sum(pred_flat == labels_flat) / len(labels_flat)\n",
    "\n",
    "\n",
    "def flat_auc(preds, labels):\n",
    "    '''\n",
    "    Calculate the Area Under the ROC Curve\n",
    "    More suited to unbalanced data\n",
    "    '''\n",
    "    pred_flat = np.argmax(preds, axis=1).flatten()\n",
    "    labels_flat = labels.flatten()\n",
    "    #switch last label and prediction to avoid \"only one class\" error.\n",
    "    if sum(labels_flat) == len(labels_flat) or sum(labels_flat) == 0:\n",
    "        labels_flat[-1] = (labels_flat[-1] + 1) % 2\n",
    "        pred_flat[-1] = (pred_flat[-1] + 1) % 2\n",
    "    return roc_auc_score(labels_flat, pred_flat)\n",
    "\n",
    "\n",
    "def format_time(elapsed):\n",
    "    '''\n",
    "    Takes a time in seconds and returns a string hh:mm:ss\n",
    "    '''\n",
    "    elapsed_rounded = int(round((elapsed)))\n",
    "    return str(datetime.timedelta(seconds=elapsed_rounded))"
   ],
   "metadata": {
    "pycharm": {
     "name": "#%%\n"
    },
    "id": "Al8_ac87Pnp_"
   }
  },
  {
   "cell_type": "code",
   "execution_count": null,
   "outputs": [
    {
     "output_type": "stream",
     "name": "stdout",
     "text": [
      "\n",
      "======== Epoch 1 / 6 ========\n",
      "Training...\n",
      "  Batch    40  of    276.    Elapsed: 0:00:43.\n",
      "  Batch    80  of    276.    Elapsed: 0:01:30.\n",
      "  Batch   120  of    276.    Elapsed: 0:02:17.\n",
      "  Batch   160  of    276.    Elapsed: 0:03:05.\n",
      "  Batch   200  of    276.    Elapsed: 0:03:52.\n",
      "  Batch   240  of    276.    Elapsed: 0:04:40.\n",
      "\n",
      "  Accuracy training: 0.9435\n",
      "  AUC training: 0.8935\n",
      "  Average training loss: 0.1892\n",
      "  Training epcoh took: 0:05:23\n",
      "\n",
      "Running Validation...\n",
      "  Accuracy: 0.9728\n",
      "  AUC: 0.9833\n",
      "  Validation took: 0:00:14\n",
      "\n",
      "======== Epoch 2 / 6 ========\n",
      "Training...\n",
      "  Batch    40  of    276.    Elapsed: 0:00:48.\n",
      "  Batch    80  of    276.    Elapsed: 0:01:36.\n",
      "  Batch   120  of    276.    Elapsed: 0:02:24.\n",
      "  Batch   160  of    276.    Elapsed: 0:03:11.\n",
      "  Batch   200  of    276.    Elapsed: 0:03:59.\n",
      "  Batch   240  of    276.    Elapsed: 0:04:47.\n",
      "\n",
      "  Accuracy training: 0.9770\n",
      "  AUC training: 0.9727\n",
      "  Average training loss: 0.0949\n",
      "  Training epcoh took: 0:05:29\n",
      "\n",
      "Running Validation...\n",
      "  Accuracy: 0.9783\n",
      "  AUC: 0.9810\n",
      "  Validation took: 0:00:14\n",
      "\n",
      "======== Epoch 3 / 6 ========\n",
      "Training...\n",
      "  Batch    40  of    276.    Elapsed: 0:00:48.\n",
      "  Batch    80  of    276.    Elapsed: 0:01:35.\n",
      "  Batch   120  of    276.    Elapsed: 0:02:23.\n",
      "  Batch   160  of    276.    Elapsed: 0:03:11.\n",
      "  Batch   200  of    276.    Elapsed: 0:03:58.\n",
      "  Batch   240  of    276.    Elapsed: 0:04:46.\n",
      "\n",
      "  Accuracy training: 0.9867\n",
      "  AUC training: 0.9865\n",
      "  Average training loss: 0.0606\n",
      "  Training epcoh took: 0:05:29\n",
      "\n",
      "Running Validation...\n",
      "  Accuracy: 0.9728\n",
      "  AUC: 0.9833\n",
      "  Validation took: 0:00:14\n",
      "\n",
      "======== Epoch 4 / 6 ========\n",
      "Training...\n",
      "  Batch    40  of    276.    Elapsed: 0:00:48.\n",
      "  Batch    80  of    276.    Elapsed: 0:01:35.\n",
      "  Batch   120  of    276.    Elapsed: 0:02:23.\n",
      "  Batch   160  of    276.    Elapsed: 0:03:11.\n",
      "  Batch   200  of    276.    Elapsed: 0:03:58.\n",
      "  Batch   240  of    276.    Elapsed: 0:04:46.\n",
      "\n",
      "  Accuracy training: 0.9897\n",
      "  AUC training: 0.9919\n",
      "  Average training loss: 0.0457\n",
      "  Training epcoh took: 0:05:29\n",
      "\n",
      "Running Validation...\n",
      "  Accuracy: 0.9810\n",
      "  AUC: 0.9827\n",
      "  Validation took: 0:00:14\n",
      "\n",
      "======== Epoch 5 / 6 ========\n",
      "Training...\n",
      "  Batch    40  of    276.    Elapsed: 0:00:48.\n",
      "  Batch    80  of    276.    Elapsed: 0:01:35.\n",
      "  Batch   120  of    276.    Elapsed: 0:02:23.\n",
      "  Batch   160  of    276.    Elapsed: 0:03:11.\n",
      "  Batch   200  of    276.    Elapsed: 0:03:58.\n",
      "  Batch   240  of    276.    Elapsed: 0:04:46.\n",
      "\n",
      "  Accuracy training: 0.9918\n",
      "  AUC training: 0.9943\n",
      "  Average training loss: 0.0362\n",
      "  Training epcoh took: 0:05:29\n",
      "\n",
      "Running Validation...\n",
      "  Accuracy: 0.9810\n",
      "  AUC: 0.9827\n",
      "  Validation took: 0:00:15\n",
      "\n",
      "======== Epoch 6 / 6 ========\n",
      "Training...\n",
      "  Batch    40  of    276.    Elapsed: 0:00:48.\n",
      "  Batch    80  of    276.    Elapsed: 0:01:36.\n",
      "  Batch   120  of    276.    Elapsed: 0:02:24.\n",
      "  Batch   160  of    276.    Elapsed: 0:03:11.\n",
      "  Batch   200  of    276.    Elapsed: 0:03:59.\n",
      "  Batch   240  of    276.    Elapsed: 0:04:47.\n",
      "\n",
      "  Accuracy training: 0.9927\n",
      "  AUC training: 0.9949\n",
      "  Average training loss: 0.0333\n",
      "  Training epcoh took: 0:05:29\n",
      "\n",
      "Running Validation...\n",
      "  Accuracy: 0.9810\n",
      "  AUC: 0.9827\n",
      "  Validation took: 0:00:14\n",
      "\n",
      "Training complete!\n"
     ]
    }
   ],
   "source": [
    "# source : huggingface `run_glue.py` at :\n",
    "# https://github.com/huggingface/transformers/blob/5bfcd0485ece086ebcbed2d008813037968a9e58/examples/run_glue.py#L128\n",
    "\n",
    "seed_val = 42\n",
    "\n",
    "random.seed(seed_val)\n",
    "np.random.seed(seed_val)\n",
    "torch.manual_seed(seed_val)\n",
    "torch.cuda.manual_seed_all(seed_val)\n",
    "\n",
    "loss_values = []\n",
    "accuracy_val_values = []\n",
    "accuracy_train_values = []\n",
    "auc_train_values = []\n",
    "auc_val_values = []\n",
    "time_values = []\n",
    "\n",
    "for epoch_i in range(epochs):\n",
    "    training_time = time.time()\n",
    "    # ========================================\n",
    "    #               Training\n",
    "    # ========================================\n",
    "    b_labels_epochs = np.array([])\n",
    "    logits_epochs = np.empty(shape=(0, 2))\n",
    "    print(\"\")\n",
    "    print('======== Epoch {:} / {:} ========'.format(epoch_i + 1, epochs))\n",
    "    print('Training...')\n",
    "    t0 = time.time()\n",
    "    total_loss = 0\n",
    "    # set model to train mod\n",
    "    model.train()\n",
    "    eval_loss, eval_accuracy, eval_auc = 0, 0, 0\n",
    "    nb_eval_steps = 0\n",
    "    for step, batch in enumerate(train_dataloader):\n",
    "        if step % 40 == 0 and not step == 0:\n",
    "            elapsed = format_time(time.time() - t0)\n",
    "            print('  Batch {:>5,}  of  {:>5,}.    Elapsed: {:}.'.format(step, len(train_dataloader), elapsed))\n",
    "        # As we unpack the batch, we'll also copy each tensor to the GPU\n",
    "        # batch  [0]: input ids ; [1]: attention masks ; [2]: labels\n",
    "        b_input_ids = batch[0].to(device)\n",
    "        b_input_mask = batch[1].to(device)\n",
    "        b_labels = batch[2].to(device)\n",
    "        # clear any previously calculated gradients before performing backward pass.\n",
    "        model.zero_grad()\n",
    "        # Perform a forward pass\n",
    "        outputs = model(b_input_ids,\n",
    "                        token_type_ids=None,\n",
    "                        attention_mask=b_input_mask,\n",
    "                        labels=b_labels)\n",
    "        loss = outputs[\"loss\"]\n",
    "        total_loss += loss.item()\n",
    "        # Perform a backward pass to calculate the gradients.\n",
    "        loss.backward()\n",
    "        # Clip the norm of the gradients to 1.0. Help prevent \"exploding gradients\" problem.\n",
    "        torch.nn.utils.clip_grad_norm_(model.parameters(), 1.0)\n",
    "        # Update parameters and take a step using the computed gradient.\n",
    "        optimizer.step()\n",
    "        # Update the learning rate.\n",
    "        scheduler.step()\n",
    "        # metrics for training\n",
    "        logits = outputs[\"logits\"]\n",
    "        logits = logits.detach().cpu().numpy()\n",
    "        logits_epochs = np.vstack((logits_epochs, logits))\n",
    "        b_labels_epochs = np.array(np.hstack((b_labels_epochs,\n",
    "                                              b_labels.cpu().numpy())),\n",
    "                                   dtype=int)\n",
    "        nb_eval_steps += 1\n",
    "    # Calculate the average loss over the training data.\n",
    "    avg_train_loss = total_loss / nb_eval_steps\n",
    "    # Store the loss and metrics values for plotting the learning curve.\n",
    "    loss_values.append(avg_train_loss)\n",
    "    accuracy_train_values.append(flat_accuracy(logits_epochs, b_labels_epochs))\n",
    "    auc_train_values.append(flat_auc(logits_epochs, b_labels_epochs))\n",
    "    print(\"\")\n",
    "    print(\"  Accuracy training: {0:.4f}\".format(accuracy_train_values[-1]))\n",
    "    print(\"  AUC training: {0:.4f}\".format(auc_train_values[-1]))\n",
    "    print(\"  Average training loss: {0:.4f}\".format(avg_train_loss))\n",
    "    print(\"  Training epcoh took: {:}\".format(format_time(time.time() - t0)))\n",
    "    # ========================================\n",
    "    #               Validation\n",
    "    # ========================================\n",
    "    print(\"\")\n",
    "    print(\"Running Validation...\")\n",
    "    t0 = time.time()\n",
    "    # Put the model in evaluation mode (change dropout behaviour)\n",
    "    model.eval()\n",
    "    # Tracking variables\n",
    "    b_labels_epochs = np.array([])\n",
    "    logits_epochs = np.empty(shape=(0, 2))\n",
    "    for batch in validation_dataloader:\n",
    "        # Add batch to GPU\n",
    "        batch = tuple(t.to(device) for t in batch)\n",
    "        # Unpack the inputs from our dataloader\n",
    "        b_input_ids, b_input_mask, b_labels = batch\n",
    "        # Telling the model not to compute or store gradients, saving memory and time\n",
    "        with torch.no_grad():\n",
    "            outputs = model(b_input_ids,\n",
    "                            token_type_ids=None,\n",
    "                            attention_mask=b_input_mask)\n",
    "        # The \"logits\" are the output values prior to applying an activation function like the softmax.\n",
    "        logits = outputs[\"logits\"]\n",
    "        # Move logits and labels to CPU\n",
    "        logits = logits.detach().cpu().numpy()\n",
    "        label_ids = b_labels.to('cpu').numpy()\n",
    "        # Calculate the accuracy and the AUC for this batch of test sentences.\n",
    "        logits_epochs = np.vstack((logits_epochs, logits))\n",
    "        b_labels_epochs = np.hstack((b_labels_epochs, b_labels.cpu().numpy()))\n",
    "    accuracy_val_values.append(flat_accuracy(logits_epochs, b_labels_epochs))\n",
    "    auc_val_values.append(flat_auc(logits_epochs, b_labels_epochs))\n",
    "    time_values.append(time.time() - training_time)\n",
    "    print(\"  Accuracy: {0:.4f}\".format(accuracy_val_values[-1]))\n",
    "    print(\"  AUC: {0:.4f}\".format(auc_val_values[-1]))\n",
    "    print(\"  Validation took: {:}\".format(format_time(time.time() - t0)))\n",
    "print(\"\")\n",
    "print(\"Training complete!\")"
   ],
   "metadata": {
    "pycharm": {
     "name": "#%%\n"
    },
    "id": "vJRLVgTLPnqB",
    "outputId": "808106e8-b04c-4e05-80f8-a322649b1185",
    "colab": {
     "base_uri": "https://localhost:8080/"
    }
   }
  },
  {
   "cell_type": "code",
   "execution_count": null,
   "outputs": [
    {
     "output_type": "display_data",
     "data": {
      "image/png": "[encoded data removed]",
      "text/plain": [
       "<Figure size 864x576 with 2 Axes>"
      ]
     },
     "metadata": {
      "needs_background": "light"
     }
    }
   ],
   "source": [
    "########################################\n",
    "### plots ###\n",
    "########################################\n",
    "\n",
    "# print(\"\\n\\t**** start : plots ****\\n\")\n",
    "\n",
    "plt.figure(figsize=(12, 8))\n",
    "plt.subplot(2, 1, 1)\n",
    "plt.plot(np.arange(1, epochs + 1),\n",
    "         loss_values,\n",
    "         marker='o',\n",
    "         label=\"CrossEntropy\",\n",
    "         color=\"black\")\n",
    "plt.xticks(np.arange(1, epochs + 1))\n",
    "# plt.xlabel(\"epoch\")\n",
    "plt.ylabel(\"loss\")\n",
    "plt.title(\"CrossEntropy loss\")\n",
    "plt.grid(color=(0.8, 0.8, 0.8))\n",
    "plt.legend()\n",
    "\n",
    "plt.subplot(2, 1, 2)\n",
    "plt.plot(np.arange(1, epochs + 1),\n",
    "         accuracy_train_values,\n",
    "         marker='o',\n",
    "         label=\"avg_accuracy_train\",\n",
    "         color=\"blue\")\n",
    "plt.plot(np.arange(1, epochs + 1),\n",
    "         auc_train_values,\n",
    "         marker='o',\n",
    "         label=\"avg_AUC_train\",\n",
    "         color=\"cyan\")\n",
    "plt.plot(np.arange(1, epochs + 1),\n",
    "         accuracy_val_values,\n",
    "         marker='o',\n",
    "         label=\"avg_accuracy_val\",\n",
    "         color=\"red\")\n",
    "plt.plot(np.arange(1, epochs + 1),\n",
    "         auc_val_values,\n",
    "         marker='o',\n",
    "         label=\"avg_AUC_val\",\n",
    "         color=\"orange\")\n",
    "\n",
    "plt.xticks(np.arange(1, epochs + 1))\n",
    "plt.xlabel(\"epoch\")\n",
    "plt.ylabel(\"metrics\")\n",
    "plt.grid(color=(0.8, 0.8, 0.8))\n",
    "plt.legend()\n",
    "\n",
    "plt.suptitle(\"Training BERT\", y=1.1)\n",
    "plt.tight_layout()\n",
    "plt.savefig(path_save_plot)"
   ],
   "metadata": {
    "pycharm": {
     "name": "#%%\n"
    },
    "id": "3EV26-CNPnqC",
    "colab": {
     "base_uri": "https://localhost:8080/",
     "height": 654
    },
    "outputId": "53f76a69-3e82-4b00-dff5-771c31e54286"
   }
  },
  {
   "cell_type": "code",
   "execution_count": null,
   "outputs": [
    {
     "output_type": "stream",
     "name": "stdout",
     "text": [
      "Number of test sentences: 400\n",
      "\n",
      "Predicting labels for 400 test sentences...\n",
      "    DONE.\n",
      "MCC: 0.9549\n",
      "accuracy : 0.9850\n",
      "auc : 0.9816\n"
     ]
    }
   ],
   "source": [
    "########################################\n",
    "### validation set ###\n",
    "########################################\n",
    "\n",
    "# print(\"\\n\\t**** start : validation set ****\\n\")\n",
    "\n",
    "## data preparation ##\n",
    "# load dataset\n",
    "df = pd.read_csv(path_val)\n",
    "print('Number of test sentences: {:,}\\n'.format(df.shape[0]))\n",
    "sentences = df[\"text\"].values\n",
    "labels = df[\"label\"].values\n",
    "input_ids = []\n",
    "# IDs\n",
    "for sent in sentences:\n",
    "    encoded_sent = tokenizer.encode(\n",
    "        sent,\n",
    "        add_special_tokens=True,\n",
    "    )\n",
    "    input_ids.append(encoded_sent)\n",
    "input_ids = pad_sequences(input_ids, maxlen=MAX_LEN,\n",
    "                          dtype=\"long\", truncating=\"post\", padding=\"post\")\n",
    "# attention mask\n",
    "attention_masks = []\n",
    "for seq in input_ids:\n",
    "    seq_mask = [float(i > 0) for i in seq]\n",
    "    attention_masks.append(seq_mask)\n",
    "\n",
    "# Convert to tensors.\n",
    "prediction_inputs = torch.tensor(input_ids)\n",
    "prediction_masks = torch.tensor(attention_masks)\n",
    "prediction_labels = torch.tensor(labels)\n",
    "# Create DataLoader.\n",
    "prediction_data = TensorDataset(prediction_inputs, prediction_masks, prediction_labels)\n",
    "prediction_sampler = SequentialSampler(prediction_data)\n",
    "prediction_dataloader = DataLoader(prediction_data, sampler=prediction_sampler, batch_size=batch_size_test)\n",
    "\n",
    "## evaluate ##\n",
    "print('Predicting labels for {:,} test sentences...'.format(len(prediction_inputs)))\n",
    "# model to evaluation mode\n",
    "model.eval()\n",
    "# Tracking variables\n",
    "predictions, true_labels = [], []\n",
    "# Predict\n",
    "for batch in prediction_dataloader:\n",
    "    batch = tuple(t.to(device) for t in batch)\n",
    "    b_input_ids, b_input_mask, b_labels = batch\n",
    "    with torch.no_grad():\n",
    "        outputs = model(b_input_ids,\n",
    "                        token_type_ids=None,\n",
    "                        attention_mask=b_input_mask)\n",
    "    logits = outputs[0]\n",
    "    logits = logits.detach().cpu().numpy()\n",
    "    label_ids = b_labels.to('cpu').numpy()\n",
    "    predictions.append(logits)\n",
    "    true_labels.append(label_ids)\n",
    "print('    DONE.')\n",
    "# matthews metric\n",
    "flat_predictions = [item for sublist in predictions for item in sublist]\n",
    "flat_predictions = np.argmax(flat_predictions, axis=1).flatten()\n",
    "flat_true_labels = [item for sublist in true_labels for item in sublist]\n",
    "mcc = matthews_corrcoef(flat_true_labels, flat_predictions)\n",
    "print('MCC: %.4f' % mcc)\n",
    "# accuracy metric\n",
    "accuracy_test = np.sum(flat_predictions == flat_true_labels) / len(flat_true_labels)\n",
    "print('accuracy : %.4f' % accuracy_test)\n",
    "# AUC metric\n",
    "auc_test = roc_auc_score(flat_predictions, flat_true_labels)\n",
    "print('auc : %.4f' % auc_test)\n",
    "# save metrics test\n",
    "df_metrics_test = pd.DataFrame({\"accuracy\": [accuracy_test],\n",
    "                                \"AUC\": [auc_test],\n",
    "                                \"MCC\": [mcc]})\n",
    "df_metrics_test.to_csv(path_scores, index=False)"
   ],
   "metadata": {
    "pycharm": {
     "name": "#%%\n"
    },
    "id": "pE_Vn5G8PnqD",
    "colab": {
     "base_uri": "https://localhost:8080/"
    },
    "outputId": "f951489b-d004-42a1-de4f-44080fe4f23a"
   }
  },
  {
   "cell_type": "code",
   "source": [
    "########################################\n",
    "### test set prediction ###\n",
    "########################################\n",
    "\n",
    "# print(\"\\n\\t**** start : test set ****\\n\")\n",
    "\n",
    "## data preparation ##\n",
    "# load dataset\n",
    "df = pd.read_csv(path_test).drop(\"label\", axis=1).dropna()\n",
    "print('Number of test sentences: {:,}\\n'.format(df.shape[0]))\n",
    "sentences = df[\"text\"].values\n",
    "file_ids = df[\"id\"].values\n",
    "input_ids = []\n",
    "# IDs\n",
    "for sent in sentences:\n",
    "    encoded_sent = tokenizer.encode(\n",
    "        sent,\n",
    "        add_special_tokens=True,\n",
    "    )\n",
    "    input_ids.append(encoded_sent)\n",
    "input_ids = pad_sequences(input_ids, maxlen=MAX_LEN,\n",
    "                          dtype=\"long\", truncating=\"post\", padding=\"post\")\n",
    "# attention mask\n",
    "attention_masks = []\n",
    "for seq in input_ids:\n",
    "    seq_mask = [float(i > 0) for i in seq]\n",
    "    attention_masks.append(seq_mask)\n",
    "\n",
    "# Convert to tensors.\n",
    "prediction_inputs = torch.tensor(input_ids)\n",
    "prediction_masks = torch.tensor(attention_masks)\n",
    "prediction_file_ids = torch.tensor(file_ids)\n",
    "# Create DataLoader.\n",
    "prediction_data = TensorDataset(prediction_inputs, prediction_masks, prediction_file_ids)\n",
    "prediction_sampler = SequentialSampler(prediction_data)\n",
    "prediction_dataloader = DataLoader(prediction_data,\n",
    "                                   sampler=prediction_sampler,\n",
    "                                   batch_size=batch_size_test,\n",
    "                                   shuffle=False)\n",
    "\n",
    "## evaluate ##\n",
    "print('Predicting labels for {:,} test sentences...'.format(len(prediction_inputs)))\n",
    "# model to evaluation mode\n",
    "model.eval()\n",
    "# Tracking variables\n",
    "predictions, file_ids = [], []\n",
    "# Predict\n",
    "for batch in prediction_dataloader:\n",
    "    batch = tuple(t.to(device) for t in batch)\n",
    "    b_input_ids, b_input_mask, b_file_ids = batch\n",
    "    with torch.no_grad():\n",
    "        outputs = model(b_input_ids,\n",
    "                        token_type_ids=None,\n",
    "                        attention_mask=b_input_mask)\n",
    "    logits = outputs[0].detach().cpu().numpy()\n",
    "    predictions.append(logits)\n",
    "    file_ids.append(b_file_ids.to('cpu').numpy())\n",
    "print('    DONE.')\n",
    "# flatten predictions\n",
    "flat_predictions = [item for sublist in predictions for item in sublist]\n",
    "flat_predictions = np.argmax(flat_predictions, axis=1).flatten()\n",
    "flat_file_ids = [item for sublist in file_ids for item in sublist]\n",
    "# save predicitons\n",
    "df_sub = pd.DataFrame({\"id\": flat_file_ids,\n",
    "                       \"earnings: 0 no/1 yes\": flat_predictions})\n",
    "df_sub.to_csv(path_save_submission, index=False)\n",
    "print(\"predictions saved.\")\n",
    "### WARNING : no NaNs predictions in the file ###"
   ],
   "metadata": {
    "colab": {
     "base_uri": "https://localhost:8080/"
    },
    "id": "fy3zh71ZiLCl",
    "outputId": "00cdc81a-761b-409d-80fe-f0db4cb5a7eb"
   },
   "execution_count": null,
   "outputs": [
    {
     "output_type": "stream",
     "name": "stdout",
     "text": [
      "Number of test sentences: 172\n",
      "\n",
      "Predicting labels for 172 test sentences...\n",
      "    DONE.\n",
      "predictions saved.\n"
     ]
    }
   ]
  },
  {
   "cell_type": "code",
   "execution_count": null,
   "outputs": [],
   "source": [
    "########################################\n",
    "### save the model ###\n",
    "########################################\n",
    "\n",
    "# print(\"\\n\\t**** start : save the model ****\\n\")\n",
    "\n",
    "## save ##\n",
    "# import os\n",
    "# output_dir = './model_save/'\n",
    "# if not os.path.exists(output_dir):\n",
    "#     os.makedirs(output_dir)\n",
    "# print(\"Saving model to %s\" % output_dir)\n",
    "# model_to_save = model.module if hasattr(model, 'module') else model  # Take care of distributed/parallel training\n",
    "# model_to_save.save_pretrained(output_dir)\n",
    "# tokenizer.save_pretrained(output_dir)\n",
    "\n",
    "## load ##\n",
    "# # Load a trained model and vocabulary that you have fine-tuned\n",
    "# model = model_class.from_pretrained(output_dir)\n",
    "# tokenizer = tokenizer_class.from_pretrained(output_dir)\n",
    "# # Copy the model to the GPU.\n",
    "# model.to(device)"
   ],
   "metadata": {
    "pycharm": {
     "name": "#%%\n"
    },
    "id": "NrhMBmnBPnqE"
   }
  },
  {
   "cell_type": "code",
   "execution_count": null,
   "outputs": [],
   "source": [
    ""
   ],
   "metadata": {
    "pycharm": {
     "name": "#%%\n"
    },
    "id": "ZGggMVSOPnqE"
   }
  },
  {
   "cell_type": "code",
   "execution_count": null,
   "outputs": [],
   "source": [
    ""
   ],
   "metadata": {
    "pycharm": {
     "name": "#%%\n"
    },
    "id": "sTucCsfzPnqF"
   }
  },
  {
   "cell_type": "code",
   "execution_count": null,
   "outputs": [],
   "source": [
    ""
   ],
   "metadata": {
    "pycharm": {
     "name": "#%%\n"
    },
    "id": "s3wIs402PnqF"
   }
  }
 ],
 "metadata": {
  "kernelspec": {
   "display_name": "Python 3",
   "language": "python",
   "name": "python3"
  },
  "language_info": {
   "codemirror_mode": {
    "name": "ipython",
    "version": 2
   },
   "file_extension": ".py",
   "mimetype": "text/x-python",
   "name": "python",
   "nbconvert_exporter": "python",
   "pygments_lexer": "ipython2",
   "version": "2.7.6"
  },
  "colab": {
   "name": "bert.ipynb",
   "provenance": [],
   "collapsed_sections": []
  },
  "accelerator": "GPU"
 },
 "nbformat": 4,
 "nbformat_minor": 0
}