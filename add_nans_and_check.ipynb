{
 "cells": [
  {
   "cell_type": "code",
   "execution_count": 3,
   "metadata": {
    "collapsed": true
   },
   "outputs": [],
   "source": [
    "import pandas as pd"
   ]
  },
  {
   "cell_type": "code",
   "execution_count": 4,
   "outputs": [],
   "source": [
    "df = pd.read_csv(\"./submission_no_na.csv\")\n",
    "df_test = pd.read_csv(\"../data/test.csv\")"
   ],
   "metadata": {
    "collapsed": false,
    "pycharm": {
     "name": "#%%\n"
    }
   }
  },
  {
   "cell_type": "code",
   "execution_count": 5,
   "outputs": [
    {
     "data": {
      "text/plain": "       id      file  earnings: 0 no/1 yes\n0      20    20.xml                     0\n1      47    47.xml                     0\n2      57    57.xml                     0\n3      66    66.xml                     1\n4      88    88.xml                     0\n..    ...       ...                   ...\n167  4704  4704.xml                     0\n168  4741  4741.xml                     0\n169  4819  4819.xml                     1\n170  4872  4872.xml                     0\n171  4944  4944.xml                     0\n\n[172 rows x 3 columns]",
      "text/html": "<div>\n<style scoped>\n    .dataframe tbody tr th:only-of-type {\n        vertical-align: middle;\n    }\n\n    .dataframe tbody tr th {\n        vertical-align: top;\n    }\n\n    .dataframe thead th {\n        text-align: right;\n    }\n</style>\n<table border=\"1\" class=\"dataframe\">\n  <thead>\n    <tr style=\"text-align: right;\">\n      <th></th>\n      <th>id</th>\n      <th>file</th>\n      <th>earnings: 0 no/1 yes</th>\n    </tr>\n  </thead>\n  <tbody>\n    <tr>\n      <th>0</th>\n      <td>20</td>\n      <td>20.xml</td>\n      <td>0</td>\n    </tr>\n    <tr>\n      <th>1</th>\n      <td>47</td>\n      <td>47.xml</td>\n      <td>0</td>\n    </tr>\n    <tr>\n      <th>2</th>\n      <td>57</td>\n      <td>57.xml</td>\n      <td>0</td>\n    </tr>\n    <tr>\n      <th>3</th>\n      <td>66</td>\n      <td>66.xml</td>\n      <td>1</td>\n    </tr>\n    <tr>\n      <th>4</th>\n      <td>88</td>\n      <td>88.xml</td>\n      <td>0</td>\n    </tr>\n    <tr>\n      <th>...</th>\n      <td>...</td>\n      <td>...</td>\n      <td>...</td>\n    </tr>\n    <tr>\n      <th>167</th>\n      <td>4704</td>\n      <td>4704.xml</td>\n      <td>0</td>\n    </tr>\n    <tr>\n      <th>168</th>\n      <td>4741</td>\n      <td>4741.xml</td>\n      <td>0</td>\n    </tr>\n    <tr>\n      <th>169</th>\n      <td>4819</td>\n      <td>4819.xml</td>\n      <td>1</td>\n    </tr>\n    <tr>\n      <th>170</th>\n      <td>4872</td>\n      <td>4872.xml</td>\n      <td>0</td>\n    </tr>\n    <tr>\n      <th>171</th>\n      <td>4944</td>\n      <td>4944.xml</td>\n      <td>0</td>\n    </tr>\n  </tbody>\n</table>\n<p>172 rows × 3 columns</p>\n</div>"
     },
     "execution_count": 5,
     "metadata": {},
     "output_type": "execute_result"
    }
   ],
   "source": [
    "df"
   ],
   "metadata": {
    "collapsed": false,
    "pycharm": {
     "name": "#%%\n"
    }
   }
  },
  {
   "cell_type": "markdown",
   "source": [
    "# add 0 for NaNs"
   ],
   "metadata": {
    "collapsed": false
   }
  },
  {
   "cell_type": "code",
   "execution_count": 48,
   "outputs": [],
   "source": [
    "df_na = pd.DataFrame(data={\"id\" : sorted(list(set(df_test[\"id\"].values) - set(df[\"id\"].values)))})\n",
    "df_na[\"earnings: 0 no/1 yes\"] = 0"
   ],
   "metadata": {
    "collapsed": false,
    "pycharm": {
     "name": "#%%\n"
    }
   }
  },
  {
   "cell_type": "code",
   "execution_count": 49,
   "outputs": [],
   "source": [
    "# add nans' 0\n",
    "df = pd.concat((df,df_na))\n",
    "df.sort_values(by=\"id\", ignore_index=True, inplace=True)\n",
    "df[\"file\"] = df[\"id\"].astype(str)+\".xml\"\n",
    "df = df[[\"id\",\"file\",\"earnings: 0 no/1 yes\"]]"
   ],
   "metadata": {
    "collapsed": false,
    "pycharm": {
     "name": "#%%\n"
    }
   }
  },
  {
   "cell_type": "code",
   "execution_count": 50,
   "outputs": [
    {
     "name": "stdout",
     "output_type": "stream",
     "text": [
      "All good, nothing is missing.\n"
     ]
    }
   ],
   "source": [
    "# check\n",
    "df_files = set(df[\"file\"].values)\n",
    "df_test_files = set(df_test[\"file\"].values)\n",
    "difference = (df_files | df_test_files) - (df_files & df_test_files)\n",
    "if len(difference) > 0 :\n",
    "    print(\"The followings files' labels are missing : {}.\".format(difference))\n",
    "else:\n",
    "    print(\"All good, nothing is missing.\")"
   ],
   "metadata": {
    "collapsed": false,
    "pycharm": {
     "name": "#%%\n"
    }
   }
  },
  {
   "cell_type": "code",
   "execution_count": 51,
   "outputs": [],
   "source": [
    "df.to_csv(\"./submission.csv\", index=False)"
   ],
   "metadata": {
    "collapsed": false,
    "pycharm": {
     "name": "#%%\n"
    }
   }
  },
  {
   "cell_type": "markdown",
   "source": [
    "# save without NaNs"
   ],
   "metadata": {
    "collapsed": false
   }
  },
  {
   "cell_type": "code",
   "execution_count": 25,
   "outputs": [],
   "source": [],
   "metadata": {
    "collapsed": false,
    "pycharm": {
     "name": "#%%\n"
    }
   }
  },
  {
   "cell_type": "code",
   "execution_count": 52,
   "outputs": [],
   "source": [
    "df_no_na = pd.read_csv(\"./submission_no_na.csv\")\n",
    "df_no_na.sort_values(by=\"id\", ignore_index=True, inplace=True)\n",
    "df_no_na[\"file\"] = df_no_na[\"id\"].astype(str)+\".xml\"\n",
    "df_no_na = df_no_na[[\"id\",\"file\",\"earnings: 0 no/1 yes\"]]\n",
    "df_no_na.to_csv(\"./submission_no_na.csv\", index=False)"
   ],
   "metadata": {
    "collapsed": false,
    "pycharm": {
     "name": "#%%\n"
    }
   }
  }
 ],
 "metadata": {
  "kernelspec": {
   "display_name": "Python 3",
   "language": "python",
   "name": "python3"
  },
  "language_info": {
   "codemirror_mode": {
    "name": "ipython",
    "version": 2
   },
   "file_extension": ".py",
   "mimetype": "text/x-python",
   "name": "python",
   "nbconvert_exporter": "python",
   "pygments_lexer": "ipython2",
   "version": "2.7.6"
  }
 },
 "nbformat": 4,
 "nbformat_minor": 0
}