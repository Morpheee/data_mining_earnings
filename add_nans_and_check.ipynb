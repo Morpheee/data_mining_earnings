{
 "cells": [
  {
   "cell_type": "code",
   "execution_count": 27,
   "metadata": {
    "collapsed": true
   },
   "outputs": [],
   "source": [
    "import pandas as pd"
   ]
  },
  {
   "cell_type": "code",
   "execution_count": 43,
   "outputs": [],
   "source": [
    "df = pd.read_csv(\"./submission_no_na.csv\")\n",
    "df_test = pd.read_csv(\"../data/test.csv\")"
   ],
   "metadata": {
    "collapsed": false,
    "pycharm": {
     "name": "#%%\n"
    }
   }
  },
  {
   "cell_type": "markdown",
   "source": [
    "# add 0 for NaNs"
   ],
   "metadata": {
    "collapsed": false
   }
  },
  {
   "cell_type": "code",
   "execution_count": 48,
   "outputs": [],
   "source": [
    "df_na = pd.DataFrame(data={\"id\" : sorted(list(set(df_test[\"id\"].values) - set(df[\"id\"].values)))})\n",
    "df_na[\"earnings: 0 no/1 yes\"] = 0"
   ],
   "metadata": {
    "collapsed": false,
    "pycharm": {
     "name": "#%%\n"
    }
   }
  },
  {
   "cell_type": "code",
   "execution_count": 49,
   "outputs": [],
   "source": [
    "# add nans' 0\n",
    "df = pd.concat((df,df_na))\n",
    "df.sort_values(by=\"id\", ignore_index=True, inplace=True)\n",
    "df[\"file\"] = df[\"id\"].astype(str)+\".xml\"\n",
    "df = df[[\"id\",\"file\",\"earnings: 0 no/1 yes\"]]"
   ],
   "metadata": {
    "collapsed": false,
    "pycharm": {
     "name": "#%%\n"
    }
   }
  },
  {
   "cell_type": "code",
   "execution_count": 50,
   "outputs": [
    {
     "name": "stdout",
     "output_type": "stream",
     "text": [
      "All good, nothing is missing.\n"
     ]
    }
   ],
   "source": [
    "# check\n",
    "df_files = set(df[\"file\"].values)\n",
    "df_test_files = set(df_test[\"file\"].values)\n",
    "difference = (df_files | df_test_files) - (df_files & df_test_files)\n",
    "if len(difference) > 0 :\n",
    "    print(\"The followings files' labels are missing : {}.\".format(difference))\n",
    "else:\n",
    "    print(\"All good, nothing is missing.\")"
   ],
   "metadata": {
    "collapsed": false,
    "pycharm": {
     "name": "#%%\n"
    }
   }
  },
  {
   "cell_type": "code",
   "execution_count": 51,
   "outputs": [],
   "source": [
    "df.to_csv(\"./submission.csv\", index=False)"
   ],
   "metadata": {
    "collapsed": false,
    "pycharm": {
     "name": "#%%\n"
    }
   }
  },
  {
   "cell_type": "markdown",
   "source": [
    "# save without NaNs"
   ],
   "metadata": {
    "collapsed": false
   }
  },
  {
   "cell_type": "code",
   "execution_count": 25,
   "outputs": [],
   "source": [],
   "metadata": {
    "collapsed": false,
    "pycharm": {
     "name": "#%%\n"
    }
   }
  },
  {
   "cell_type": "code",
   "execution_count": 52,
   "outputs": [],
   "source": [
    "df_no_na = pd.read_csv(\"./submission_no_na.csv\")\n",
    "df_no_na.sort_values(by=\"id\", ignore_index=True, inplace=True)\n",
    "df_no_na[\"file\"] = df_no_na[\"id\"].astype(str)+\".xml\"\n",
    "df_no_na = df_no_na[[\"id\",\"file\",\"earnings: 0 no/1 yes\"]]\n",
    "df_no_na.to_csv(\"./submission_no_na.csv\", index=False)"
   ],
   "metadata": {
    "collapsed": false,
    "pycharm": {
     "name": "#%%\n"
    }
   }
  }
 ],
 "metadata": {
  "kernelspec": {
   "display_name": "Python 3",
   "language": "python",
   "name": "python3"
  },
  "language_info": {
   "codemirror_mode": {
    "name": "ipython",
    "version": 2
   },
   "file_extension": ".py",
   "mimetype": "text/x-python",
   "name": "python",
   "nbconvert_exporter": "python",
   "pygments_lexer": "ipython2",
   "version": "2.7.6"
  }
 },
 "nbformat": 4,
 "nbformat_minor": 0
}